{
 "cells": [
  {
   "cell_type": "markdown",
   "metadata": {},
   "source": [
    "# Project: Identify Customer Segments\n",
    "\n",
    "In this project, you will apply unsupervised learning techniques to identify segments of the population that form the core customer base for a mail-order sales company in Germany. These segments can then be used to direct marketing campaigns towards audiences that will have the highest expected rate of returns. The data that you will use has been provided by our partners at Bertelsmann Arvato Analytics, and represents a real-life data science task.\n",
    "\n",
    "This notebook will help you complete this task by providing a framework within which you will perform your analysis steps. In each step of the project, you will see some text describing the subtask that you will perform, followed by one or more code cells for you to complete your work. **Feel free to add additional code and markdown cells as you go along so that you can explore everything in precise chunks.** The code cells provided in the base template will outline only the major tasks, and will usually not be enough to cover all of the minor tasks that comprise it.\n",
    "\n",
    "It should be noted that while there will be precise guidelines on how you should handle certain tasks in the project, there will also be places where an exact specification is not provided. **There will be times in the project where you will need to make and justify your own decisions on how to treat the data.** These are places where there may not be only one way to handle the data. In real-life tasks, there may be many valid ways to approach an analysis task. One of the most important things you can do is clearly document your approach so that other scientists can understand the decisions you've made.\n",
    "\n",
    "At the end of most sections, there will be a Markdown cell labeled **Discussion**. In these cells, you will report your findings for the completed section, as well as document the decisions that you made in your approach to each subtask. **Your project will be evaluated not just on the code used to complete the tasks outlined, but also your communication about your observations and conclusions at each stage.**"
   ]
  },
  {
   "cell_type": "code",
   "execution_count": 1,
   "metadata": {},
   "outputs": [],
   "source": [
    "# import libraries here; add more as necessary\n",
    "import numpy as np\n",
    "import pandas as pd\n",
    "import matplotlib.pyplot as plt\n",
    "import seaborn as sns\n",
    "import warnings\n",
    "from sklearn.preprocessing import StandardScaler, Imputer\n",
    "from sklearn.decomposition import PCA\n",
    "from sklearn.cluster import KMeans\n",
    "warnings.filterwarnings('ignore')\n",
    "# magic word for producing visualizations in notebook\n",
    "%matplotlib inline"
   ]
  },
  {
   "cell_type": "markdown",
   "metadata": {},
   "source": [
    "### Step 0: Load the Data\n",
    "\n",
    "There are four files associated with this project (not including this one):\n",
    "\n",
    "- `Udacity_AZDIAS_Subset.csv`: Demographics data for the general population of Germany; 891211 persons (rows) x 85 features (columns).\n",
    "- `Udacity_CUSTOMERS_Subset.csv`: Demographics data for customers of a mail-order company; 191652 persons (rows) x 85 features (columns).\n",
    "- `Data_Dictionary.md`: Detailed information file about the features in the provided datasets.\n",
    "- `AZDIAS_Feature_Summary.csv`: Summary of feature attributes for demographics data; 85 features (rows) x 4 columns\n",
    "\n",
    "Each row of the demographics files represents a single person, but also includes information outside of individuals, including information about their household, building, and neighborhood. You will use this information to cluster the general population into groups with similar demographic properties. Then, you will see how the people in the customers dataset fit into those created clusters. The hope here is that certain clusters are over-represented in the customers data, as compared to the general population; those over-represented clusters will be assumed to be part of the core userbase. This information can then be used for further applications, such as targeting for a marketing campaign.\n",
    "\n",
    "To start off with, load in the demographics data for the general population into a pandas DataFrame, and do the same for the feature attributes summary. Note for all of the `.csv` data files in this project: they're semicolon (`;`) delimited, so you'll need an additional argument in your [`read_csv()`](https://pandas.pydata.org/pandas-docs/stable/generated/pandas.read_csv.html) call to read in the data properly. Also, considering the size of the main dataset, it may take some time for it to load completely.\n",
    "\n",
    "Once the dataset is loaded, it's recommended that you take a little bit of time just browsing the general structure of the dataset and feature summary file. You'll be getting deep into the innards of the cleaning in the first major step of the project, so gaining some general familiarity can help you get your bearings."
   ]
  },
  {
   "cell_type": "code",
   "execution_count": 2,
   "metadata": {},
   "outputs": [],
   "source": [
    "# Load in the general demographics data.\n",
    "azdias = pd.read_csv('Udacity_AZDIAS_Subset.csv' , delimiter = ';')\n",
    "\n",
    "# Load in the feature summary file.\n",
    "feat_info =  pd.read_csv('AZDIAS_Feature_Summary.csv' , delimiter = ';')"
   ]
  },
  {
   "cell_type": "code",
   "execution_count": 3,
   "metadata": {},
   "outputs": [
    {
     "data": {
      "text/plain": [
       "677503"
      ]
     },
     "execution_count": 3,
     "metadata": {},
     "output_type": "execute_result"
    }
   ],
   "source": [
    "# Check the structure of the data after it's loaded (e.g. print the number of\n",
    "# rows and columns, print the first few rows).\n",
    "len(azdias[azdias['AGER_TYP'] == -1])"
   ]
  },
  {
   "cell_type": "code",
   "execution_count": 4,
   "metadata": {},
   "outputs": [
    {
     "data": {
      "text/plain": [
       "Index(['AGER_TYP', 'ALTERSKATEGORIE_GROB', 'ANREDE_KZ', 'CJT_GESAMTTYP',\n",
       "       'FINANZ_MINIMALIST', 'FINANZ_SPARER', 'FINANZ_VORSORGER',\n",
       "       'FINANZ_ANLEGER', 'FINANZ_UNAUFFAELLIGER', 'FINANZ_HAUSBAUER',\n",
       "       'FINANZTYP', 'GEBURTSJAHR', 'GFK_URLAUBERTYP', 'GREEN_AVANTGARDE',\n",
       "       'HEALTH_TYP', 'LP_LEBENSPHASE_FEIN', 'LP_LEBENSPHASE_GROB',\n",
       "       'LP_FAMILIE_FEIN', 'LP_FAMILIE_GROB', 'LP_STATUS_FEIN',\n",
       "       'LP_STATUS_GROB', 'NATIONALITAET_KZ', 'PRAEGENDE_JUGENDJAHRE',\n",
       "       'RETOURTYP_BK_S', 'SEMIO_SOZ', 'SEMIO_FAM', 'SEMIO_REL', 'SEMIO_MAT',\n",
       "       'SEMIO_VERT', 'SEMIO_LUST', 'SEMIO_ERL', 'SEMIO_KULT', 'SEMIO_RAT',\n",
       "       'SEMIO_KRIT', 'SEMIO_DOM', 'SEMIO_KAEM', 'SEMIO_PFLICHT', 'SEMIO_TRADV',\n",
       "       'SHOPPER_TYP', 'SOHO_KZ', 'TITEL_KZ', 'VERS_TYP', 'ZABEOTYP',\n",
       "       'ALTER_HH', 'ANZ_PERSONEN', 'ANZ_TITEL', 'HH_EINKOMMEN_SCORE',\n",
       "       'KK_KUNDENTYP', 'W_KEIT_KIND_HH', 'WOHNDAUER_2008',\n",
       "       'ANZ_HAUSHALTE_AKTIV', 'ANZ_HH_TITEL', 'GEBAEUDETYP', 'KONSUMNAEHE',\n",
       "       'MIN_GEBAEUDEJAHR', 'OST_WEST_KZ', 'WOHNLAGE', 'CAMEO_DEUG_2015',\n",
       "       'CAMEO_DEU_2015', 'CAMEO_INTL_2015', 'KBA05_ANTG1', 'KBA05_ANTG2',\n",
       "       'KBA05_ANTG3', 'KBA05_ANTG4', 'KBA05_BAUMAX', 'KBA05_GBZ', 'BALLRAUM',\n",
       "       'EWDICHTE', 'INNENSTADT', 'GEBAEUDETYP_RASTER', 'KKK', 'MOBI_REGIO',\n",
       "       'ONLINE_AFFINITAET', 'REGIOTYP', 'KBA13_ANZAHL_PKW', 'PLZ8_ANTG1',\n",
       "       'PLZ8_ANTG2', 'PLZ8_ANTG3', 'PLZ8_ANTG4', 'PLZ8_BAUMAX', 'PLZ8_HHZ',\n",
       "       'PLZ8_GBZ', 'ARBEIT', 'ORTSGR_KLS9', 'RELAT_AB'],\n",
       "      dtype='object')"
      ]
     },
     "execution_count": 4,
     "metadata": {},
     "output_type": "execute_result"
    }
   ],
   "source": [
    "azdias.columns"
   ]
  },
  {
   "cell_type": "code",
   "execution_count": 5,
   "metadata": {},
   "outputs": [
    {
     "data": {
      "text/html": [
       "<div>\n",
       "<style scoped>\n",
       "    .dataframe tbody tr th:only-of-type {\n",
       "        vertical-align: middle;\n",
       "    }\n",
       "\n",
       "    .dataframe tbody tr th {\n",
       "        vertical-align: top;\n",
       "    }\n",
       "\n",
       "    .dataframe thead th {\n",
       "        text-align: right;\n",
       "    }\n",
       "</style>\n",
       "<table border=\"1\" class=\"dataframe\">\n",
       "  <thead>\n",
       "    <tr style=\"text-align: right;\">\n",
       "      <th></th>\n",
       "      <th>attribute</th>\n",
       "      <th>information_level</th>\n",
       "      <th>type</th>\n",
       "      <th>missing_or_unknown</th>\n",
       "    </tr>\n",
       "  </thead>\n",
       "  <tbody>\n",
       "    <tr>\n",
       "      <th>0</th>\n",
       "      <td>AGER_TYP</td>\n",
       "      <td>person</td>\n",
       "      <td>categorical</td>\n",
       "      <td>[-1,0]</td>\n",
       "    </tr>\n",
       "    <tr>\n",
       "      <th>1</th>\n",
       "      <td>ALTERSKATEGORIE_GROB</td>\n",
       "      <td>person</td>\n",
       "      <td>ordinal</td>\n",
       "      <td>[-1,0,9]</td>\n",
       "    </tr>\n",
       "    <tr>\n",
       "      <th>2</th>\n",
       "      <td>ANREDE_KZ</td>\n",
       "      <td>person</td>\n",
       "      <td>categorical</td>\n",
       "      <td>[-1,0]</td>\n",
       "    </tr>\n",
       "    <tr>\n",
       "      <th>3</th>\n",
       "      <td>CJT_GESAMTTYP</td>\n",
       "      <td>person</td>\n",
       "      <td>categorical</td>\n",
       "      <td>[0]</td>\n",
       "    </tr>\n",
       "    <tr>\n",
       "      <th>4</th>\n",
       "      <td>FINANZ_MINIMALIST</td>\n",
       "      <td>person</td>\n",
       "      <td>ordinal</td>\n",
       "      <td>[-1]</td>\n",
       "    </tr>\n",
       "  </tbody>\n",
       "</table>\n",
       "</div>"
      ],
      "text/plain": [
       "              attribute information_level         type missing_or_unknown\n",
       "0              AGER_TYP            person  categorical             [-1,0]\n",
       "1  ALTERSKATEGORIE_GROB            person      ordinal           [-1,0,9]\n",
       "2             ANREDE_KZ            person  categorical             [-1,0]\n",
       "3         CJT_GESAMTTYP            person  categorical                [0]\n",
       "4     FINANZ_MINIMALIST            person      ordinal               [-1]"
      ]
     },
     "execution_count": 5,
     "metadata": {},
     "output_type": "execute_result"
    }
   ],
   "source": [
    "feat_info.head()"
   ]
  },
  {
   "cell_type": "markdown",
   "metadata": {},
   "source": [
    "> **Tip**: Add additional cells to keep everything in reasonably-sized chunks! Keyboard shortcut `esc --> a` (press escape to enter command mode, then press the 'A' key) adds a new cell before the active cell, and `esc --> b` adds a new cell after the active cell. If you need to convert an active cell to a markdown cell, use `esc --> m` and to convert to a code cell, use `esc --> y`. \n",
    "\n",
    "## Step 1: Preprocessing\n",
    "\n",
    "### Step 1.1: Assess Missing Data\n",
    "\n",
    "The feature summary file contains a summary of properties for each demographics data column. You will use this file to help you make cleaning decisions during this stage of the project. First of all, you should assess the demographics data in terms of missing data. Pay attention to the following points as you perform your analysis, and take notes on what you observe. Make sure that you fill in the **Discussion** cell with your findings and decisions at the end of each step that has one!\n",
    "\n",
    "#### Step 1.1.1: Convert Missing Value Codes to NaNs\n",
    "The fourth column of the feature attributes summary (loaded in above as `feat_info`) documents the codes from the data dictionary that indicate missing or unknown data. While the file encodes this as a list (e.g. `[-1,0]`), this will get read in as a string object. You'll need to do a little bit of parsing to make use of it to identify and clean the data. Convert data that matches a 'missing' or 'unknown' value code into a numpy NaN value. You might want to see how much data takes on a 'missing' or 'unknown' code, and how much data is naturally missing, as a point of interest.\n",
    "\n",
    "**As one more reminder, you are encouraged to add additional cells to break up your analysis into manageable chunks.**"
   ]
  },
  {
   "cell_type": "code",
   "execution_count": 6,
   "metadata": {},
   "outputs": [],
   "source": [
    "# Identify missing or unknown data values and convert them to NaNs.\n",
    "\n",
    "for i in feat_info.index:   \n",
    "    missing_list = feat_info.iloc[i]['missing_or_unknown']\n",
    "    missing_list = missing_list.strip('][').split(',') \n",
    "    missing_list = [int(integar) if(integar != 'X' and  integar != 'XX' and integar != '') else integar for integar in missing_list]\n",
    "    if missing_list != '':\n",
    "        azdias = azdias.replace({feat_info.iloc[i]['attribute'] :missing_list } ,np.NaN)"
   ]
  },
  {
   "cell_type": "markdown",
   "metadata": {},
   "source": [
    "#### Step 1.1.2: Assess Missing Data in Each Column\n",
    "\n",
    "How much missing data is present in each column? There are a few columns that are outliers in terms of the proportion of values that are missing. You will want to use matplotlib's [`hist()`](https://matplotlib.org/api/_as_gen/matplotlib.pyplot.hist.html) function to visualize the distribution of missing value counts to find these columns. Identify and document these columns. While some of these columns might have justifications for keeping or re-encoding the data, for this project you should just remove them from the dataframe. (Feel free to make remarks about these outlier columns in the discussion, however!)\n",
    "\n",
    "For the remaining features, are there any patterns in which columns have, or share, missing data?"
   ]
  },
  {
   "cell_type": "code",
   "execution_count": 7,
   "metadata": {
    "scrolled": false
   },
   "outputs": [
    {
     "data": {
      "text/plain": [
       "AGER_TYP                 685843\n",
       "ALTERSKATEGORIE_GROB       2881\n",
       "ANREDE_KZ                     0\n",
       "CJT_GESAMTTYP              4854\n",
       "FINANZ_MINIMALIST             0\n",
       "FINANZ_SPARER                 0\n",
       "FINANZ_VORSORGER              0\n",
       "FINANZ_ANLEGER                0\n",
       "FINANZ_UNAUFFAELLIGER         0\n",
       "FINANZ_HAUSBAUER              0\n",
       "FINANZTYP                     0\n",
       "GEBURTSJAHR              392318\n",
       "GFK_URLAUBERTYP            4854\n",
       "GREEN_AVANTGARDE              0\n",
       "HEALTH_TYP               111196\n",
       "LP_LEBENSPHASE_FEIN       97632\n",
       "LP_LEBENSPHASE_GROB       94572\n",
       "LP_FAMILIE_FEIN           77792\n",
       "LP_FAMILIE_GROB           77792\n",
       "LP_STATUS_FEIN             4854\n",
       "LP_STATUS_GROB             4854\n",
       "NATIONALITAET_KZ         108315\n",
       "PRAEGENDE_JUGENDJAHRE    108164\n",
       "RETOURTYP_BK_S             4854\n",
       "SEMIO_SOZ                     0\n",
       "SEMIO_FAM                     0\n",
       "SEMIO_REL                     0\n",
       "SEMIO_MAT                     0\n",
       "SEMIO_VERT                    0\n",
       "SEMIO_LUST                    0\n",
       "                          ...  \n",
       "OST_WEST_KZ               93148\n",
       "WOHNLAGE                  93148\n",
       "CAMEO_DEUG_2015           99352\n",
       "CAMEO_DEU_2015            99352\n",
       "CAMEO_INTL_2015           99352\n",
       "KBA05_ANTG1              133324\n",
       "KBA05_ANTG2              133324\n",
       "KBA05_ANTG3              133324\n",
       "KBA05_ANTG4              133324\n",
       "KBA05_BAUMAX             476524\n",
       "KBA05_GBZ                133324\n",
       "BALLRAUM                  93740\n",
       "EWDICHTE                  93740\n",
       "INNENSTADT                93740\n",
       "GEBAEUDETYP_RASTER        93155\n",
       "KKK                      158064\n",
       "MOBI_REGIO               133324\n",
       "ONLINE_AFFINITAET          4854\n",
       "REGIOTYP                 158064\n",
       "KBA13_ANZAHL_PKW         105800\n",
       "PLZ8_ANTG1               116515\n",
       "PLZ8_ANTG2               116515\n",
       "PLZ8_ANTG3               116515\n",
       "PLZ8_ANTG4               116515\n",
       "PLZ8_BAUMAX              116515\n",
       "PLZ8_HHZ                 116515\n",
       "PLZ8_GBZ                 116515\n",
       "ARBEIT                    97375\n",
       "ORTSGR_KLS9               97274\n",
       "RELAT_AB                  97375\n",
       "Length: 85, dtype: int64"
      ]
     },
     "execution_count": 7,
     "metadata": {},
     "output_type": "execute_result"
    }
   ],
   "source": [
    "# Perform an assessment of how much missing data there is in each column of the\n",
    "# dataset.\n",
    "azdias.isnull().sum()"
   ]
  },
  {
   "cell_type": "code",
   "execution_count": 8,
   "metadata": {},
   "outputs": [
    {
     "data": {
      "image/png": "[encoded data removed]",
      "text/plain": [
       "<matplotlib.figure.Figure at 0x7ffb84404a90>"
      ]
     },
     "metadata": {
      "needs_background": "light"
     },
     "output_type": "display_data"
    }
   ],
   "source": [
    "# Investigate patterns in the amount of missing data in each column.\n",
    "\n",
    "percent_missing_per_column = azdias.isnull().sum() / azdias.shape[0]\n",
    "plt.hist(percent_missing_per_column , bins =50)\n",
    "plt.ylabel('Number of Columns')\n",
    "plt.xlabel('Percentage of missing values per column')\n",
    "plt.show()"
   ]
  },
  {
   "cell_type": "code",
   "execution_count": 9,
   "metadata": {
    "scrolled": false
   },
   "outputs": [
    {
     "name": "stdout",
     "output_type": "stream",
     "text": [
      "['AGER_TYP', 'GEBURTSJAHR', 'TITEL_KZ', 'ALTER_HH', 'KK_KUNDENTYP', 'KBA05_BAUMAX']\n"
     ]
    }
   ],
   "source": [
    "# Remove the outlier columns from the dataset. (You'll perform other data\n",
    "# engineering tasks such as re-encoding and imputation later.)\n",
    "columns_with_one_third_missing = []\n",
    "for i in percent_missing_per_column.index:\n",
    "    if (percent_missing_per_column[i]) > 0.32:\n",
    "        #print (percent_missing_per_column[i])\n",
    "        columns_with_one_third_missing.append(i)\n",
    "print (columns_with_one_third_missing) "
   ]
  },
  {
   "cell_type": "code",
   "execution_count": 10,
   "metadata": {},
   "outputs": [],
   "source": [
    "azdias = azdias.drop(columns_with_one_third_missing ,  axis = 1)"
   ]
  },
  {
   "cell_type": "code",
   "execution_count": 11,
   "metadata": {
    "scrolled": true
   },
   "outputs": [
    {
     "data": {
      "text/html": [
       "<div>\n",
       "<style scoped>\n",
       "    .dataframe tbody tr th:only-of-type {\n",
       "        vertical-align: middle;\n",
       "    }\n",
       "\n",
       "    .dataframe tbody tr th {\n",
       "        vertical-align: top;\n",
       "    }\n",
       "\n",
       "    .dataframe thead th {\n",
       "        text-align: right;\n",
       "    }\n",
       "</style>\n",
       "<table border=\"1\" class=\"dataframe\">\n",
       "  <thead>\n",
       "    <tr style=\"text-align: right;\">\n",
       "      <th></th>\n",
       "      <th>ALTERSKATEGORIE_GROB</th>\n",
       "      <th>ANREDE_KZ</th>\n",
       "      <th>CJT_GESAMTTYP</th>\n",
       "      <th>FINANZ_MINIMALIST</th>\n",
       "      <th>FINANZ_SPARER</th>\n",
       "      <th>FINANZ_VORSORGER</th>\n",
       "      <th>FINANZ_ANLEGER</th>\n",
       "      <th>FINANZ_UNAUFFAELLIGER</th>\n",
       "      <th>FINANZ_HAUSBAUER</th>\n",
       "      <th>FINANZTYP</th>\n",
       "      <th>...</th>\n",
       "      <th>PLZ8_ANTG1</th>\n",
       "      <th>PLZ8_ANTG2</th>\n",
       "      <th>PLZ8_ANTG3</th>\n",
       "      <th>PLZ8_ANTG4</th>\n",
       "      <th>PLZ8_BAUMAX</th>\n",
       "      <th>PLZ8_HHZ</th>\n",
       "      <th>PLZ8_GBZ</th>\n",
       "      <th>ARBEIT</th>\n",
       "      <th>ORTSGR_KLS9</th>\n",
       "      <th>RELAT_AB</th>\n",
       "    </tr>\n",
       "  </thead>\n",
       "  <tbody>\n",
       "    <tr>\n",
       "      <th>0</th>\n",
       "      <td>2.0</td>\n",
       "      <td>1</td>\n",
       "      <td>2.0</td>\n",
       "      <td>3</td>\n",
       "      <td>4</td>\n",
       "      <td>3</td>\n",
       "      <td>5</td>\n",
       "      <td>5</td>\n",
       "      <td>3</td>\n",
       "      <td>4</td>\n",
       "      <td>...</td>\n",
       "      <td>NaN</td>\n",
       "      <td>NaN</td>\n",
       "      <td>NaN</td>\n",
       "      <td>NaN</td>\n",
       "      <td>NaN</td>\n",
       "      <td>NaN</td>\n",
       "      <td>NaN</td>\n",
       "      <td>NaN</td>\n",
       "      <td>NaN</td>\n",
       "      <td>NaN</td>\n",
       "    </tr>\n",
       "    <tr>\n",
       "      <th>1</th>\n",
       "      <td>1.0</td>\n",
       "      <td>2</td>\n",
       "      <td>5.0</td>\n",
       "      <td>1</td>\n",
       "      <td>5</td>\n",
       "      <td>2</td>\n",
       "      <td>5</td>\n",
       "      <td>4</td>\n",
       "      <td>5</td>\n",
       "      <td>1</td>\n",
       "      <td>...</td>\n",
       "      <td>2.0</td>\n",
       "      <td>3.0</td>\n",
       "      <td>2.0</td>\n",
       "      <td>1.0</td>\n",
       "      <td>1.0</td>\n",
       "      <td>5.0</td>\n",
       "      <td>4.0</td>\n",
       "      <td>3.0</td>\n",
       "      <td>5.0</td>\n",
       "      <td>4.0</td>\n",
       "    </tr>\n",
       "    <tr>\n",
       "      <th>2</th>\n",
       "      <td>3.0</td>\n",
       "      <td>2</td>\n",
       "      <td>3.0</td>\n",
       "      <td>1</td>\n",
       "      <td>4</td>\n",
       "      <td>1</td>\n",
       "      <td>2</td>\n",
       "      <td>3</td>\n",
       "      <td>5</td>\n",
       "      <td>1</td>\n",
       "      <td>...</td>\n",
       "      <td>3.0</td>\n",
       "      <td>3.0</td>\n",
       "      <td>1.0</td>\n",
       "      <td>0.0</td>\n",
       "      <td>1.0</td>\n",
       "      <td>4.0</td>\n",
       "      <td>4.0</td>\n",
       "      <td>3.0</td>\n",
       "      <td>5.0</td>\n",
       "      <td>2.0</td>\n",
       "    </tr>\n",
       "    <tr>\n",
       "      <th>3</th>\n",
       "      <td>4.0</td>\n",
       "      <td>2</td>\n",
       "      <td>2.0</td>\n",
       "      <td>4</td>\n",
       "      <td>2</td>\n",
       "      <td>5</td>\n",
       "      <td>2</td>\n",
       "      <td>1</td>\n",
       "      <td>2</td>\n",
       "      <td>6</td>\n",
       "      <td>...</td>\n",
       "      <td>2.0</td>\n",
       "      <td>2.0</td>\n",
       "      <td>2.0</td>\n",
       "      <td>0.0</td>\n",
       "      <td>1.0</td>\n",
       "      <td>3.0</td>\n",
       "      <td>4.0</td>\n",
       "      <td>2.0</td>\n",
       "      <td>3.0</td>\n",
       "      <td>3.0</td>\n",
       "    </tr>\n",
       "    <tr>\n",
       "      <th>4</th>\n",
       "      <td>3.0</td>\n",
       "      <td>1</td>\n",
       "      <td>5.0</td>\n",
       "      <td>4</td>\n",
       "      <td>3</td>\n",
       "      <td>4</td>\n",
       "      <td>1</td>\n",
       "      <td>3</td>\n",
       "      <td>2</td>\n",
       "      <td>5</td>\n",
       "      <td>...</td>\n",
       "      <td>2.0</td>\n",
       "      <td>4.0</td>\n",
       "      <td>2.0</td>\n",
       "      <td>1.0</td>\n",
       "      <td>2.0</td>\n",
       "      <td>3.0</td>\n",
       "      <td>3.0</td>\n",
       "      <td>4.0</td>\n",
       "      <td>6.0</td>\n",
       "      <td>5.0</td>\n",
       "    </tr>\n",
       "  </tbody>\n",
       "</table>\n",
       "<p>5 rows × 79 columns</p>\n",
       "</div>"
      ],
      "text/plain": [
       "   ALTERSKATEGORIE_GROB  ANREDE_KZ  CJT_GESAMTTYP  FINANZ_MINIMALIST  \\\n",
       "0                   2.0          1            2.0                  3   \n",
       "1                   1.0          2            5.0                  1   \n",
       "2                   3.0          2            3.0                  1   \n",
       "3                   4.0          2            2.0                  4   \n",
       "4                   3.0          1            5.0                  4   \n",
       "\n",
       "   FINANZ_SPARER  FINANZ_VORSORGER  FINANZ_ANLEGER  FINANZ_UNAUFFAELLIGER  \\\n",
       "0              4                 3               5                      5   \n",
       "1              5                 2               5                      4   \n",
       "2              4                 1               2                      3   \n",
       "3              2                 5               2                      1   \n",
       "4              3                 4               1                      3   \n",
       "\n",
       "   FINANZ_HAUSBAUER  FINANZTYP    ...     PLZ8_ANTG1  PLZ8_ANTG2  PLZ8_ANTG3  \\\n",
       "0                 3          4    ...            NaN         NaN         NaN   \n",
       "1                 5          1    ...            2.0         3.0         2.0   \n",
       "2                 5          1    ...            3.0         3.0         1.0   \n",
       "3                 2          6    ...            2.0         2.0         2.0   \n",
       "4                 2          5    ...            2.0         4.0         2.0   \n",
       "\n",
       "   PLZ8_ANTG4  PLZ8_BAUMAX  PLZ8_HHZ  PLZ8_GBZ  ARBEIT  ORTSGR_KLS9  RELAT_AB  \n",
       "0         NaN          NaN       NaN       NaN     NaN          NaN       NaN  \n",
       "1         1.0          1.0       5.0       4.0     3.0          5.0       4.0  \n",
       "2         0.0          1.0       4.0       4.0     3.0          5.0       2.0  \n",
       "3         0.0          1.0       3.0       4.0     2.0          3.0       3.0  \n",
       "4         1.0          2.0       3.0       3.0     4.0          6.0       5.0  \n",
       "\n",
       "[5 rows x 79 columns]"
      ]
     },
     "execution_count": 11,
     "metadata": {},
     "output_type": "execute_result"
    }
   ],
   "source": [
    "azdias.head()"
   ]
  },
  {
   "cell_type": "markdown",
   "metadata": {},
   "source": [
    "#### Discussion 1.1.2: Assess Missing Data in Each Column\n",
    "Most of the columns in the dataframe had less the 1/3 missing data, but the columns 'AGER_TYP', 'GEBURTSJAHR', 'TITEL_KZ', 'ALTER_HH', 'KK_KUNDENTYP', 'KBA05_BAUMAX' had more than 33% missing data. Therefore they would not be very useful on learning and hence they have been dropped. Also column 'ALTER_HH' lies on the edge of the threshold. As 1/3 is approximately 33% and 'ALTER_HH' had approximately 34% missing data, we have included it as well to be dropped."
   ]
  },
  {
   "cell_type": "markdown",
   "metadata": {},
   "source": [
    "#### Step 1.1.3: Assess Missing Data in Each Row\n",
    "\n",
    "Now, you'll perform a similar assessment for the rows of the dataset. How much data is missing in each row? As with the columns, you should see some groups of points that have a very different numbers of missing values. Divide the data into two subsets: one for data points that are above some threshold for missing values, and a second subset for points below that threshold.\n",
    "\n",
    "In order to know what to do with the outlier rows, we should see if the distribution of data values on columns that are not missing data (or are missing very little data) are similar or different between the two groups. Select at least five of these columns and compare the distribution of values.\n",
    "- You can use seaborn's [`countplot()`](https://seaborn.pydata.org/generated/seaborn.countplot.html) function to create a bar chart of code frequencies and matplotlib's [`subplot()`](https://matplotlib.org/api/_as_gen/matplotlib.pyplot.subplot.html) function to put bar charts for the two subplots side by side.\n",
    "- To reduce repeated code, you might want to write a function that can perform this comparison, taking as one of its arguments a column to be compared.\n",
    "\n",
    "Depending on what you observe in your comparison, this will have implications on how you approach your conclusions later in the analysis. If the distributions of non-missing features look similar between the data with many missing values and the data with few or no missing values, then we could argue that simply dropping those points from the analysis won't present a major issue. On the other hand, if the data with many missing values looks very different from the data with few or no missing values, then we should make a note on those data as special. We'll revisit these data later on. **Either way, you should continue your analysis for now using just the subset of the data with few or no missing values.**"
   ]
  },
  {
   "cell_type": "code",
   "execution_count": 12,
   "metadata": {
    "scrolled": true
   },
   "outputs": [
    {
     "data": {
      "text/plain": [
       "0     43\n",
       "1      0\n",
       "2      0\n",
       "3      7\n",
       "4      0\n",
       "5      0\n",
       "6      0\n",
       "7      0\n",
       "8      0\n",
       "9      0\n",
       "10     0\n",
       "11    47\n",
       "12     6\n",
       "13     8\n",
       "14    47\n",
       "dtype: int64"
      ]
     },
     "execution_count": 12,
     "metadata": {},
     "output_type": "execute_result"
    }
   ],
   "source": [
    "# How much data is missing in each row of the dataset?\n",
    "azdias.isnull().sum(axis = 1)[:15]"
   ]
  },
  {
   "cell_type": "code",
   "execution_count": 13,
   "metadata": {},
   "outputs": [],
   "source": [
    "# Write code to divide the data into two subsets based on the number of missing\n",
    "# values in each row.\n",
    "azdias_missing_rows = azdias[azdias.isnull().sum(axis = 1) >= 3]\n",
    "azdias_clean = azdias[azdias.isnull().sum(axis = 1) < 3]"
   ]
  },
  {
   "cell_type": "code",
   "execution_count": 14,
   "metadata": {},
   "outputs": [],
   "source": [
    "column_with_no_data_missing = []\n",
    "for i in percent_missing_per_column.index:\n",
    "    if percent_missing_per_column[i] == 0:\n",
    "        column_with_no_data_missing.append(i)\n",
    "top_column_with_no_data_missing = column_with_no_data_missing[0:6]"
   ]
  },
  {
   "cell_type": "code",
   "execution_count": 15,
   "metadata": {},
   "outputs": [
    {
     "data": {
      "text/plain": [
       "['ANREDE_KZ',\n",
       " 'FINANZ_MINIMALIST',\n",
       " 'FINANZ_SPARER',\n",
       " 'FINANZ_VORSORGER',\n",
       " 'FINANZ_ANLEGER',\n",
       " 'FINANZ_UNAUFFAELLIGER']"
      ]
     },
     "execution_count": 15,
     "metadata": {},
     "output_type": "execute_result"
    }
   ],
   "source": [
    "top_column_with_no_data_missing"
   ]
  },
  {
   "cell_type": "code",
   "execution_count": 16,
   "metadata": {},
   "outputs": [],
   "source": [
    "# Compare the distribution of values for at least five columns where there are\n",
    "# no or few missing values, between the two subsets.\n",
    "def create_graph(df1, df2, column):\n",
    "    fig, ax = plt.subplots(1,2,sharey=True)\n",
    "    sns.countplot(df1[column], ax=ax[0])\n",
    "    sns.countplot(df2[column], ax=ax[1])\n",
    "    ax[0].set_ylabel('Missing Values per column')\n",
    "    ax[1].set_ylabel('Missing Values per column')\n",
    "    ax[0].set_xlabel('Missing Values per row')\n",
    "    ax[1].set_xlabel('Missing Values per row')\n",
    "    plt.subplots_adjust(wspace= 0.7)\n",
    "    ax[0].set_title(column)\n",
    "    ax[1].set_title(column)\n",
    "    plt.show()\n",
    "    return"
   ]
  },
  {
   "cell_type": "code",
   "execution_count": 17,
   "metadata": {},
   "outputs": [
    {
     "data": {
      "image/png": "[encoded data removed]",
      "text/plain": [
       "<matplotlib.figure.Figure at 0x7ffb81d74710>"
      ]
     },
     "metadata": {
      "needs_background": "light"
     },
     "output_type": "display_data"
    },
    {
     "data": {
      "image/png": "[encoded data removed]",
      "text/plain": [
       "<matplotlib.figure.Figure at 0x7ffb543f8e80>"
      ]
     },
     "metadata": {
      "needs_background": "light"
     },
     "output_type": "display_data"
    },
    {
     "data": {
      "image/png": "[encoded data removed]",
      "text/plain": [
       "<matplotlib.figure.Figure at 0x7ffb543abf28>"
      ]
     },
     "metadata": {
      "needs_background": "light"
     },
     "output_type": "display_data"
    },
    {
     "data": {
      "image/png": "[encoded data removed]",
      "text/plain": [
       "<matplotlib.figure.Figure at 0x7ffb542b8908>"
      ]
     },
     "metadata": {
      "needs_background": "light"
     },
     "output_type": "display_data"
    },
    {
     "data": {
      "image/png": "[encoded data removed]",
      "text/plain": [
       "<matplotlib.figure.Figure at 0x7ffb541fe2b0>"
      ]
     },
     "metadata": {
      "needs_background": "light"
     },
     "output_type": "display_data"
    },
    {
     "data": {
      "image/png": "[encoded data removed]",
      "text/plain": [
       "<matplotlib.figure.Figure at 0x7ffb5416a320>"
      ]
     },
     "metadata": {
      "needs_background": "light"
     },
     "output_type": "display_data"
    }
   ],
   "source": [
    "for i in range(len(top_column_with_no_data_missing)):\n",
    "    create_graph(azdias_missing_rows, azdias_clean, top_column_with_no_data_missing[i] )\n",
    "    #print (i)"
   ]
  },
  {
   "cell_type": "markdown",
   "metadata": {},
   "source": [
    "#### Discussion 1.1.3: Assess Missing Data in Each Row\n",
    "\n",
    "We have created data 2 dataframes. One with more than rows have more than 3 missing values, other with less than 2 missing values. Also we have selected 6 columns with no data missing and we try to create a plot to see what similarities and differences they can have. From above we can notice a few important things. \n",
    "1. Most of the columns have show different properties in the 2 dataframes we have created. \n",
    "2. The Columns \"ANREDE_KZ\" is showing approximately the same bar graphs which means missing value will not impact the influence of this column on the learning. \n",
    "\n",
    "So to conclude, the missing values in rows and columns does seem to have impact on complete dataset, baring a few columns where missing values are of no relevance"
   ]
  },
  {
   "cell_type": "markdown",
   "metadata": {},
   "source": [
    "### Step 1.2: Select and Re-Encode Features\n",
    "\n",
    "Checking for missing data isn't the only way in which you can prepare a dataset for analysis. Since the unsupervised learning techniques to be used will only work on data that is encoded numerically, you need to make a few encoding changes or additional assumptions to be able to make progress. In addition, while almost all of the values in the dataset are encoded using numbers, not all of them represent numeric values. Check the third column of the feature summary (`feat_info`) for a summary of types of measurement.\n",
    "- For numeric and interval data, these features can be kept without changes.\n",
    "- Most of the variables in the dataset are ordinal in nature. While ordinal values may technically be non-linear in spacing, make the simplifying assumption that the ordinal variables can be treated as being interval in nature (that is, kept without any changes).\n",
    "- Special handling may be necessary for the remaining two variable types: categorical, and 'mixed'.\n",
    "\n",
    "In the first two parts of this sub-step, you will perform an investigation of the categorical and mixed-type features and make a decision on each of them, whether you will keep, drop, or re-encode each. Then, in the last part, you will create a new data frame with only the selected and engineered columns.\n",
    "\n",
    "Data wrangling is often the trickiest part of the data analysis process, and there's a lot of it to be done here. But stick with it: once you're done with this step, you'll be ready to get to the machine learning parts of the project!"
   ]
  },
  {
   "cell_type": "code",
   "execution_count": 18,
   "metadata": {
    "scrolled": true
   },
   "outputs": [
    {
     "data": {
      "text/plain": [
       "{'categorical', 'interval', 'mixed', 'numeric', 'ordinal'}"
      ]
     },
     "execution_count": 18,
     "metadata": {},
     "output_type": "execute_result"
    }
   ],
   "source": [
    "# How many features are there of each data type?\n",
    "Types_of_data= set(feat_info['type'])\n",
    "Types_of_data"
   ]
  },
  {
   "cell_type": "code",
   "execution_count": 19,
   "metadata": {},
   "outputs": [
    {
     "data": {
      "text/plain": [
       "{'categorical': 21, 'ordinal': 49, 'numeric': 7, 'mixed': 7, 'interval': 1}"
      ]
     },
     "execution_count": 19,
     "metadata": {},
     "output_type": "execute_result"
    }
   ],
   "source": [
    "m = {}\n",
    "for i in feat_info['type']:\n",
    "    try:\n",
    "        m[i] += 1 \n",
    "    except KeyError:\n",
    "        m[i] = 1 \n",
    "m"
   ]
  },
  {
   "cell_type": "code",
   "execution_count": 20,
   "metadata": {},
   "outputs": [
    {
     "data": {
      "text/plain": [
       "['AGER_TYP',\n",
       " 'ANREDE_KZ',\n",
       " 'CJT_GESAMTTYP',\n",
       " 'FINANZTYP',\n",
       " 'GFK_URLAUBERTYP',\n",
       " 'GREEN_AVANTGARDE',\n",
       " 'LP_LEBENSPHASE_FEIN',\n",
       " 'LP_LEBENSPHASE_GROB',\n",
       " 'LP_FAMILIE_FEIN',\n",
       " 'LP_FAMILIE_GROB',\n",
       " 'LP_STATUS_FEIN',\n",
       " 'LP_STATUS_GROB',\n",
       " 'NATIONALITAET_KZ',\n",
       " 'PRAEGENDE_JUGENDJAHRE',\n",
       " 'SHOPPER_TYP',\n",
       " 'SOHO_KZ',\n",
       " 'TITEL_KZ',\n",
       " 'VERS_TYP',\n",
       " 'ZABEOTYP',\n",
       " 'KK_KUNDENTYP',\n",
       " 'GEBAEUDETYP',\n",
       " 'OST_WEST_KZ',\n",
       " 'WOHNLAGE',\n",
       " 'CAMEO_DEUG_2015',\n",
       " 'CAMEO_DEU_2015',\n",
       " 'CAMEO_INTL_2015',\n",
       " 'KBA05_BAUMAX',\n",
       " 'PLZ8_BAUMAX']"
      ]
     },
     "execution_count": 20,
     "metadata": {},
     "output_type": "execute_result"
    }
   ],
   "source": [
    "categorical_mixed_columns = []\n",
    "for i in feat_info.index:\n",
    "    if ((feat_info.loc[i]['type']) == 'categorical' or (feat_info.loc[i]['type']) == 'mixed'):\n",
    "        categorical_mixed_columns.append(feat_info.loc[i]['attribute'])\n",
    "categorical_mixed_columns"
   ]
  },
  {
   "cell_type": "code",
   "execution_count": 21,
   "metadata": {},
   "outputs": [],
   "source": [
    "Column_Values = {}\n",
    "for i in categorical_mixed_columns:\n",
    "    try:\n",
    "        #print (i)\n",
    "        #set_of_distinct_values = []\n",
    "        if azdias[i].isnull().any().any() == True:\n",
    "            set_of_values = []\n",
    "            for m in azdias[i]:\n",
    "                if pd.isna(m) == True:\n",
    "                    continue\n",
    "                else:\n",
    "                    set_of_values.append(m)\n",
    "            set_of_distinct_values = set(set_of_values)\n",
    "        else:\n",
    "            set_of_distinct_values = set(azdias[i])\n",
    "        #print (m)\n",
    "        Column_Values[i] = set_of_distinct_values\n",
    "    except KeyError:\n",
    "        continue \n",
    "#print (Column_values)"
   ]
  },
  {
   "cell_type": "markdown",
   "metadata": {},
   "source": [
    "#### Step 1.2.1: Re-Encode Categorical Features\n",
    "\n",
    "For categorical data, you would ordinarily need to encode the levels as dummy variables. Depending on the number of categories, perform one of the following:\n",
    "- For binary (two-level) categoricals that take numeric values, you can keep them without needing to do anything.\n",
    "- There is one binary variable that takes on non-numeric values. For this one, you need to re-encode the values as numbers or create a dummy variable.\n",
    "- For multi-level categoricals (three or more values), you can choose to encode the values using multiple dummy variables (e.g. via [OneHotEncoder](http://scikit-learn.org/stable/modules/generated/sklearn.preprocessing.OneHotEncoder.html)), or (to keep things straightforward) just drop them from the analysis. As always, document your choices in the Discussion section."
   ]
  },
  {
   "cell_type": "code",
   "execution_count": 22,
   "metadata": {},
   "outputs": [
    {
     "data": {
      "text/html": [
       "<div>\n",
       "<style scoped>\n",
       "    .dataframe tbody tr th:only-of-type {\n",
       "        vertical-align: middle;\n",
       "    }\n",
       "\n",
       "    .dataframe tbody tr th {\n",
       "        vertical-align: top;\n",
       "    }\n",
       "\n",
       "    .dataframe thead th {\n",
       "        text-align: right;\n",
       "    }\n",
       "</style>\n",
       "<table border=\"1\" class=\"dataframe\">\n",
       "  <thead>\n",
       "    <tr style=\"text-align: right;\">\n",
       "      <th></th>\n",
       "      <th>Distinct Column Values</th>\n",
       "    </tr>\n",
       "    <tr>\n",
       "      <th>Column Name</th>\n",
       "      <th></th>\n",
       "    </tr>\n",
       "  </thead>\n",
       "  <tbody>\n",
       "    <tr>\n",
       "      <th>ANREDE_KZ</th>\n",
       "      <td>{1, 2}</td>\n",
       "    </tr>\n",
       "    <tr>\n",
       "      <th>CJT_GESAMTTYP</th>\n",
       "      <td>{1.0, 2.0, 3.0, 4.0, 5.0, 6.0}</td>\n",
       "    </tr>\n",
       "    <tr>\n",
       "      <th>FINANZTYP</th>\n",
       "      <td>{1, 2, 3, 4, 5, 6}</td>\n",
       "    </tr>\n",
       "    <tr>\n",
       "      <th>GFK_URLAUBERTYP</th>\n",
       "      <td>{1.0, 2.0, 3.0, 4.0, 5.0, 6.0, 7.0, 8.0, 9.0, ...</td>\n",
       "    </tr>\n",
       "    <tr>\n",
       "      <th>GREEN_AVANTGARDE</th>\n",
       "      <td>{0, 1}</td>\n",
       "    </tr>\n",
       "    <tr>\n",
       "      <th>LP_LEBENSPHASE_FEIN</th>\n",
       "      <td>{1.0, 2.0, 3.0, 4.0, 5.0, 6.0, 7.0, 8.0, 9.0, ...</td>\n",
       "    </tr>\n",
       "    <tr>\n",
       "      <th>LP_LEBENSPHASE_GROB</th>\n",
       "      <td>{1.0, 2.0, 3.0, 4.0, 5.0, 6.0, 7.0, 8.0, 9.0, ...</td>\n",
       "    </tr>\n",
       "    <tr>\n",
       "      <th>LP_FAMILIE_FEIN</th>\n",
       "      <td>{1.0, 2.0, 3.0, 4.0, 5.0, 6.0, 7.0, 8.0, 9.0, ...</td>\n",
       "    </tr>\n",
       "    <tr>\n",
       "      <th>LP_FAMILIE_GROB</th>\n",
       "      <td>{1.0, 2.0, 3.0, 4.0, 5.0}</td>\n",
       "    </tr>\n",
       "    <tr>\n",
       "      <th>LP_STATUS_FEIN</th>\n",
       "      <td>{1.0, 2.0, 3.0, 4.0, 5.0, 6.0, 7.0, 8.0, 9.0, ...</td>\n",
       "    </tr>\n",
       "    <tr>\n",
       "      <th>LP_STATUS_GROB</th>\n",
       "      <td>{1.0, 2.0, 3.0, 4.0, 5.0}</td>\n",
       "    </tr>\n",
       "    <tr>\n",
       "      <th>NATIONALITAET_KZ</th>\n",
       "      <td>{1.0, 2.0, 3.0}</td>\n",
       "    </tr>\n",
       "    <tr>\n",
       "      <th>PRAEGENDE_JUGENDJAHRE</th>\n",
       "      <td>{1.0, 2.0, 3.0, 4.0, 5.0, 6.0, 7.0, 8.0, 9.0, ...</td>\n",
       "    </tr>\n",
       "    <tr>\n",
       "      <th>SHOPPER_TYP</th>\n",
       "      <td>{0.0, 1.0, 2.0, 3.0}</td>\n",
       "    </tr>\n",
       "    <tr>\n",
       "      <th>SOHO_KZ</th>\n",
       "      <td>{0.0, 1.0}</td>\n",
       "    </tr>\n",
       "    <tr>\n",
       "      <th>VERS_TYP</th>\n",
       "      <td>{1.0, 2.0}</td>\n",
       "    </tr>\n",
       "    <tr>\n",
       "      <th>ZABEOTYP</th>\n",
       "      <td>{1, 2, 3, 4, 5, 6}</td>\n",
       "    </tr>\n",
       "    <tr>\n",
       "      <th>GEBAEUDETYP</th>\n",
       "      <td>{1.0, 2.0, 3.0, 4.0, 5.0, 6.0, 8.0}</td>\n",
       "    </tr>\n",
       "    <tr>\n",
       "      <th>OST_WEST_KZ</th>\n",
       "      <td>{W, O}</td>\n",
       "    </tr>\n",
       "    <tr>\n",
       "      <th>WOHNLAGE</th>\n",
       "      <td>{0.0, 1.0, 2.0, 3.0, 4.0, 5.0, 7.0, 8.0}</td>\n",
       "    </tr>\n",
       "    <tr>\n",
       "      <th>CAMEO_DEUG_2015</th>\n",
       "      <td>{8, 5, 1, 6, 2, 4, 3, 9, 7}</td>\n",
       "    </tr>\n",
       "    <tr>\n",
       "      <th>CAMEO_DEU_2015</th>\n",
       "      <td>{9B, 8D, 8C, 8B, 7A, 5A, 7B, 3A, 7E, 6A, 6E, 5...</td>\n",
       "    </tr>\n",
       "    <tr>\n",
       "      <th>CAMEO_INTL_2015</th>\n",
       "      <td>{12, 35, 25, 54, 43, 52, 15, 45, 44, 34, 31, 1...</td>\n",
       "    </tr>\n",
       "    <tr>\n",
       "      <th>PLZ8_BAUMAX</th>\n",
       "      <td>{1.0, 2.0, 3.0, 4.0, 5.0}</td>\n",
       "    </tr>\n",
       "  </tbody>\n",
       "</table>\n",
       "</div>"
      ],
      "text/plain": [
       "                                                  Distinct Column Values\n",
       "Column Name                                                             \n",
       "ANREDE_KZ                                                         {1, 2}\n",
       "CJT_GESAMTTYP                             {1.0, 2.0, 3.0, 4.0, 5.0, 6.0}\n",
       "FINANZTYP                                             {1, 2, 3, 4, 5, 6}\n",
       "GFK_URLAUBERTYP        {1.0, 2.0, 3.0, 4.0, 5.0, 6.0, 7.0, 8.0, 9.0, ...\n",
       "GREEN_AVANTGARDE                                                  {0, 1}\n",
       "LP_LEBENSPHASE_FEIN    {1.0, 2.0, 3.0, 4.0, 5.0, 6.0, 7.0, 8.0, 9.0, ...\n",
       "LP_LEBENSPHASE_GROB    {1.0, 2.0, 3.0, 4.0, 5.0, 6.0, 7.0, 8.0, 9.0, ...\n",
       "LP_FAMILIE_FEIN        {1.0, 2.0, 3.0, 4.0, 5.0, 6.0, 7.0, 8.0, 9.0, ...\n",
       "LP_FAMILIE_GROB                                {1.0, 2.0, 3.0, 4.0, 5.0}\n",
       "LP_STATUS_FEIN         {1.0, 2.0, 3.0, 4.0, 5.0, 6.0, 7.0, 8.0, 9.0, ...\n",
       "LP_STATUS_GROB                                 {1.0, 2.0, 3.0, 4.0, 5.0}\n",
       "NATIONALITAET_KZ                                         {1.0, 2.0, 3.0}\n",
       "PRAEGENDE_JUGENDJAHRE  {1.0, 2.0, 3.0, 4.0, 5.0, 6.0, 7.0, 8.0, 9.0, ...\n",
       "SHOPPER_TYP                                         {0.0, 1.0, 2.0, 3.0}\n",
       "SOHO_KZ                                                       {0.0, 1.0}\n",
       "VERS_TYP                                                      {1.0, 2.0}\n",
       "ZABEOTYP                                              {1, 2, 3, 4, 5, 6}\n",
       "GEBAEUDETYP                          {1.0, 2.0, 3.0, 4.0, 5.0, 6.0, 8.0}\n",
       "OST_WEST_KZ                                                       {W, O}\n",
       "WOHNLAGE                        {0.0, 1.0, 2.0, 3.0, 4.0, 5.0, 7.0, 8.0}\n",
       "CAMEO_DEUG_2015                              {8, 5, 1, 6, 2, 4, 3, 9, 7}\n",
       "CAMEO_DEU_2015         {9B, 8D, 8C, 8B, 7A, 5A, 7B, 3A, 7E, 6A, 6E, 5...\n",
       "CAMEO_INTL_2015        {12, 35, 25, 54, 43, 52, 15, 45, 44, 34, 31, 1...\n",
       "PLZ8_BAUMAX                                    {1.0, 2.0, 3.0, 4.0, 5.0}"
      ]
     },
     "execution_count": 22,
     "metadata": {},
     "output_type": "execute_result"
    }
   ],
   "source": [
    "# Assess categorical variables: which are binary, which are multi-level, and\n",
    "# which one needs to be re-encoded?\n",
    "df  = pd.DataFrame(list(Column_Values.items()), columns=['Column Name', 'Distinct Column Values'])\n",
    "df.set_index('Column Name' , inplace = True)\n",
    "df"
   ]
  },
  {
   "cell_type": "code",
   "execution_count": 23,
   "metadata": {},
   "outputs": [],
   "source": [
    "One_step_encoded = ['ANREDE_KZ', 'CJT_GESAMTTYP', 'FINANZTYP',\n",
    "                    'GREEN_AVANTGARDE','LP_FAMILIE_GROB','LP_STATUS_GROB', 'NATIONALITAET_KZ',\n",
    "                    'SHOPPER_TYP', 'SOHO_KZ', 'VERS_TYP', 'ZABEOTYP','GEBAEUDETYP',\n",
    "                    'OST_WEST_KZ','WOHNLAGE','CAMEO_DEUG_2015', 'PLZ8_BAUMAX']\n",
    "To_be_dropped = ['GFK_URLAUBERTYP','LP_LEBENSPHASE_FEIN','LP_LEBENSPHASE_GROB','LP_FAMILIE_FEIN',\n",
    "                 'LP_STATUS_FEIN','LP_STATUS_FEIN','CAMEO_DEU_2015','PRAEGENDE_JUGENDJAHRE','CAMEO_INTL_2015'\n",
    "                ]"
   ]
  },
  {
   "cell_type": "code",
   "execution_count": 24,
   "metadata": {},
   "outputs": [],
   "source": [
    "#azdias = azdias.drop(To_be_dropped ,  axis = 1)"
   ]
  },
  {
   "cell_type": "code",
   "execution_count": 25,
   "metadata": {
    "scrolled": true
   },
   "outputs": [],
   "source": [
    "# Re-encode categorical variable(s) to be kept in the analysis.\n",
    "#azdias = pd.get_dummies(azdias, columns = One_step_encoded)\n",
    "#azdias.columns"
   ]
  },
  {
   "cell_type": "markdown",
   "metadata": {},
   "source": [
    "#### Discussion 1.2.1: Re-Encode Categorical Features\n",
    "\n",
    "From the analysis above we have come to the conclusions as below:\n",
    "1. There are 21 Categorical columns and 7 mixed columns. \n",
    "2. There are 16 columns that have less than or equal to 9 distinct values in them. So we will use One step encoding to create new columns and simplify their usage in the dataset.\n",
    "3. There are 7 columns that have more the 9 distinct values. We will be dropping them as they will complicate the dataset instead of simplifing it.\n",
    "4. No column values were changed. Only one step encoding applied."
   ]
  },
  {
   "cell_type": "markdown",
   "metadata": {},
   "source": [
    "#### Step 1.2.2: Engineer Mixed-Type Features\n",
    "\n",
    "There are a handful of features that are marked as \"mixed\" in the feature summary that require special treatment in order to be included in the analysis. There are two in particular that deserve attention; the handling of the rest are up to your own choices:\n",
    "- \"PRAEGENDE_JUGENDJAHRE\" combines information on three dimensions: generation by decade, movement (mainstream vs. avantgarde), and nation (east vs. west). While there aren't enough levels to disentangle east from west, you should create two new variables to capture the other two dimensions: an interval-type variable for decade, and a binary variable for movement.\n",
    "- \"CAMEO_INTL_2015\" combines information on two axes: wealth and life stage. Break up the two-digit codes by their 'tens'-place and 'ones'-place digits into two new ordinal variables (which, for the purposes of this project, is equivalent to just treating them as their raw numeric values).\n",
    "- If you decide to keep or engineer new features around the other mixed-type features, make sure you note your steps in the Discussion section.\n",
    "\n",
    "Be sure to check `Data_Dictionary.md` for the details needed to finish these tasks."
   ]
  },
  {
   "cell_type": "code",
   "execution_count": 26,
   "metadata": {},
   "outputs": [],
   "source": [
    "# Investigate \"PRAEGENDE_JUGENDJAHRE\" and engineer two new variables.\n",
    "azdias_clean['PRAEGENDE_JUGENDJAHRE_decade'] = azdias_clean['PRAEGENDE_JUGENDJAHRE']\n",
    "azdias_clean['PRAEGENDE_JUGENDJAHRE_movement'] = azdias_clean['PRAEGENDE_JUGENDJAHRE']\n",
    "\n",
    "decade_dict = {1:1, 2:1, 3:2, 4:2, 5:3, 6:3, 7:3, 8:4, 9:4, 10:5, 11:5, 12:5, 13:5, 14:6, 15:6}\n",
    "movement_dict = {1:1, 2:0, 3:1, 4:0, 5:1, 6:0, 7:0, 8:1, 9:0, 10:1, 11:0, 12:1, 13:0, 14:1, 15:0}\n",
    "azdias_clean['PRAEGENDE_JUGENDJAHRE_decade'].replace(decade_dict , inplace = True)\n",
    "azdias_clean['PRAEGENDE_JUGENDJAHRE_movement'].replace(movement_dict , inplace = True)"
   ]
  },
  {
   "cell_type": "code",
   "execution_count": 27,
   "metadata": {},
   "outputs": [],
   "source": [
    "# Investigate \"CAMEO_INTL_2015\" and engineer two new variables.\n",
    "azdias_clean['CAMEO_INTL_2015_wealth'] = azdias_clean['CAMEO_INTL_2015']\n",
    "azdias_clean['CAMEO_INTL_2015_life'] = azdias_clean['CAMEO_INTL_2015']\n",
    "\n",
    "wealth_dict = {'11':1, '12':1, '13':1, '14':1, '15':1, \n",
    "               '21':2, '22':2, '23':2, '24':2, '25':2,\n",
    "               '31':3, '32':3, '33':3, '34':3, '35':3, \n",
    "               '41':4, '42':4, '43':4, '44':4, '45':4,\n",
    "               '51':5, '52':5, '53':5, '54':5, '55':5}\n",
    "\n",
    "life_dict = {'11':1, '12':2, '13':3, '14':4, '15':5, \n",
    "             '21':1, '22':2, '23':3, '24':4, '25':5,\n",
    "             '31':1, '32':2, '33':3, '34':4, '35':5, \n",
    "             '41':1, '42':2, '43':3, '44':4, '45':5,\n",
    "             '51':1, '52':2, '53':3, '54':4, '55':5}\n",
    "\n",
    "azdias_clean['CAMEO_INTL_2015_wealth'].replace(wealth_dict , inplace = True)\n",
    "azdias_clean['CAMEO_INTL_2015_life'].replace(life_dict , inplace = True)"
   ]
  },
  {
   "cell_type": "code",
   "execution_count": 28,
   "metadata": {},
   "outputs": [],
   "source": [
    "# Dropping Unwanted Columns\n",
    "azdias_clean = azdias_clean.drop(To_be_dropped ,  axis = 1)"
   ]
  },
  {
   "cell_type": "code",
   "execution_count": 29,
   "metadata": {},
   "outputs": [],
   "source": [
    "# Re-encode categorical variable(s) to be kept in the analysis.\n",
    "azdias_clean = pd.get_dummies(azdias_clean, columns = One_step_encoded)"
   ]
  },
  {
   "cell_type": "code",
   "execution_count": 30,
   "metadata": {
    "scrolled": true
   },
   "outputs": [
    {
     "data": {
      "text/plain": [
       "Index(['ALTERSKATEGORIE_GROB', 'FINANZ_MINIMALIST', 'FINANZ_SPARER',\n",
       "       'FINANZ_VORSORGER', 'FINANZ_ANLEGER', 'FINANZ_UNAUFFAELLIGER',\n",
       "       'FINANZ_HAUSBAUER', 'HEALTH_TYP', 'RETOURTYP_BK_S', 'SEMIO_SOZ',\n",
       "       ...\n",
       "       'CAMEO_DEUG_2015_5', 'CAMEO_DEUG_2015_6', 'CAMEO_DEUG_2015_7',\n",
       "       'CAMEO_DEUG_2015_8', 'CAMEO_DEUG_2015_9', 'PLZ8_BAUMAX_1.0',\n",
       "       'PLZ8_BAUMAX_2.0', 'PLZ8_BAUMAX_3.0', 'PLZ8_BAUMAX_4.0',\n",
       "       'PLZ8_BAUMAX_5.0'],\n",
       "      dtype='object', length=133)"
      ]
     },
     "execution_count": 30,
     "metadata": {},
     "output_type": "execute_result"
    }
   ],
   "source": [
    "column_names = azdias_clean.columns\n",
    "column_names"
   ]
  },
  {
   "cell_type": "markdown",
   "metadata": {},
   "source": [
    "#### Discussion 1.2.2: Engineer Mixed-Type Features\n",
    "\n",
    "From the analysis of the dataset I have concluded the points below:\n",
    "1. I have kept two mixed-value features CAMEO_INTL_2015 and PRAEGENDE_JUGENDJAHRE. We thereafter created two new columns to make these columns more relevant.\n",
    "2. Columns 'GFK_URLAUBERTYP' ,'LP_LEBENSPHASE_FEIN', 'LP_LEBENSPHASE_GROB','LP_FAMILIE_FEIN' ,'LP_STATUS_FEIN', 'LP_STATUS_FEIN'  ,'CAMEO_DEU_2015' were dropped as they would not be very helpfull in the analysis due to their large number of distinct variable values.\n",
    "3. One step encoding was done for all the other columns."
   ]
  },
  {
   "cell_type": "markdown",
   "metadata": {},
   "source": [
    "#### Step 1.2.3: Complete Feature Selection\n",
    "\n",
    "In order to finish this step up, you need to make sure that your data frame now only has the columns that you want to keep. To summarize, the dataframe should consist of the following:\n",
    "- All numeric, interval, and ordinal type columns from the original dataset.\n",
    "- Binary categorical features (all numerically-encoded).\n",
    "- Engineered features from other multi-level categorical features and mixed features.\n",
    "\n",
    "Make sure that for any new columns that you have engineered, that you've excluded the original columns from the final dataset. Otherwise, their values will interfere with the analysis later on the project. For example, you should not keep \"PRAEGENDE_JUGENDJAHRE\", since its values won't be useful for the algorithm: only the values derived from it in the engineered features you created should be retained. As a reminder, your data should only be from **the subset with few or no missing values**."
   ]
  },
  {
   "cell_type": "markdown",
   "metadata": {},
   "source": [
    "### Step 1.3: Create a Cleaning Function\n",
    "\n",
    "Even though you've finished cleaning up the general population demographics data, it's important to look ahead to the future and realize that you'll need to perform the same cleaning steps on the customer demographics data. In this substep, complete the function below to execute the main feature selection, encoding, and re-engineering steps you performed above. Then, when it comes to looking at the customer data in Step 3, you can just run this function on that DataFrame to get the trimmed dataset in a single step."
   ]
  },
  {
   "cell_type": "code",
   "execution_count": 31,
   "metadata": {},
   "outputs": [],
   "source": [
    "def clean_data(df):\n",
    "    \"\"\"\n",
    "    Perform feature trimming, re-encoding, and engineering for demographics\n",
    "    data\n",
    "    \n",
    "    INPUT: Demographics DataFrame\n",
    "    OUTPUT: Trimmed and cleaned demographics DataFrame\n",
    "    \"\"\"\n",
    "    \n",
    "    # Put in code here to execute all main cleaning steps:\n",
    "    # convert missing value codes into NaNs, ...\n",
    "    for i in feat_info.index:   \n",
    "        missing_list = feat_info.iloc[i]['missing_or_unknown']\n",
    "        missing_list = missing_list.strip('][').split(',') \n",
    "        missing_list = [int(integar) if(integar != 'X' and  integar != 'XX' and integar != '') else integar for integar in missing_list]\n",
    "        if missing_list != '':\n",
    "            df = df.replace({feat_info.iloc[i]['attribute'] :missing_list } ,np.NaN)\n",
    "    \n",
    "    df_missing_rows = df[df.isnull().sum(axis = 1) >= 3]\n",
    "    df_clean = df[df.isnull().sum(axis = 1) < 3]\n",
    "    columns_miss_32 = ['AGER_TYP', 'GEBURTSJAHR', 'TITEL_KZ', 'ALTER_HH', 'KK_KUNDENTYP', 'KBA05_BAUMAX']\n",
    "    df_clean = df_clean.drop(columns_miss_32 ,  axis = 1)\n",
    "    # remove selected columns and rows, ...\n",
    "    df_clean['PRAEGENDE_JUGENDJAHRE_decade'] = df_clean['PRAEGENDE_JUGENDJAHRE']\n",
    "    df_clean['PRAEGENDE_JUGENDJAHRE_movement'] = df_clean['PRAEGENDE_JUGENDJAHRE']\n",
    "\n",
    "    decade_dict = {1:1, 2:1, 3:2, 4:2, 5:3, 6:3, 7:3, 8:4, 9:4, 10:5, 11:5, 12:5, 13:5, 14:6, 15:6}\n",
    "    movement_dict = {1:1, 2:0, 3:1, 4:0, 5:1, 6:0, 7:0, 8:1, 9:0, 10:1, 11:0, 12:1, 13:0, 14:1, 15:0}\n",
    "    df_clean['PRAEGENDE_JUGENDJAHRE_decade'].replace(decade_dict , inplace = True)\n",
    "    df_clean['PRAEGENDE_JUGENDJAHRE_movement'].replace(movement_dict , inplace = True)\n",
    "    \n",
    "    # select, re-encode, and engineer column values.\n",
    "    df_clean['CAMEO_INTL_2015_wealth'] = df_clean['CAMEO_INTL_2015']\n",
    "    df_clean['CAMEO_INTL_2015_life'] = df_clean['CAMEO_INTL_2015']\n",
    "\n",
    "    wealth_dict = {'11':1, '12':1, '13':1, '14':1, '15':1, \n",
    "                   '21':2, '22':2, '23':2, '24':2, '25':2,\n",
    "                   '31':3, '32':3, '33':3, '34':3, '35':3, \n",
    "                   '41':4, '42':4, '43':4, '44':4, '45':4,\n",
    "                   '51':5, '52':5, '53':5, '54':5, '55':5}\n",
    "\n",
    "    life_dict = {'11':1, '12':2, '13':3, '14':4, '15':5, \n",
    "                 '21':1, '22':2, '23':3, '24':4, '25':5,\n",
    "                 '31':1, '32':2, '33':3, '34':4, '35':5, \n",
    "                 '41':1, '42':2, '43':3, '44':4, '45':5,\n",
    "                 '51':1, '52':2, '53':3, '54':4, '55':5}\n",
    "\n",
    "    df_clean['CAMEO_INTL_2015_wealth'].replace(wealth_dict , inplace = True)\n",
    "    df_clean['CAMEO_INTL_2015_life'].replace(life_dict , inplace = True)\n",
    "    One_step_encoded = ['ANREDE_KZ', 'CJT_GESAMTTYP', 'FINANZTYP',\n",
    "                        'GREEN_AVANTGARDE','LP_FAMILIE_GROB','LP_STATUS_GROB', 'NATIONALITAET_KZ',\n",
    "                        'SHOPPER_TYP', 'SOHO_KZ', 'VERS_TYP', 'ZABEOTYP','GEBAEUDETYP',\n",
    "                        'OST_WEST_KZ','WOHNLAGE','CAMEO_DEUG_2015', 'PLZ8_BAUMAX']\n",
    "    To_be_dropped = ['GFK_URLAUBERTYP','LP_LEBENSPHASE_FEIN','LP_LEBENSPHASE_GROB','LP_FAMILIE_FEIN',\n",
    "                     'LP_STATUS_FEIN','LP_STATUS_FEIN','CAMEO_DEU_2015','PRAEGENDE_JUGENDJAHRE','CAMEO_INTL_2015'\n",
    "                    ]\n",
    "    df_clean = df_clean.drop(To_be_dropped ,  axis = 1)\n",
    "    df_clean = pd.get_dummies(df_clean, columns = One_step_encoded)\n",
    "    # Return the cleaned dataframe.\n",
    "    return df_clean\n",
    "    "
   ]
  },
  {
   "cell_type": "markdown",
   "metadata": {},
   "source": [
    "## Step 2: Feature Transformation\n",
    "\n",
    "### Step 2.1: Apply Feature Scaling\n",
    "\n",
    "Before we apply dimensionality reduction techniques to the data, we need to perform feature scaling so that the principal component vectors are not influenced by the natural differences in scale for features. Starting from this part of the project, you'll want to keep an eye on the [API reference page for sklearn](http://scikit-learn.org/stable/modules/classes.html) to help you navigate to all of the classes and functions that you'll need. In this substep, you'll need to check the following:\n",
    "\n",
    "- sklearn requires that data not have missing values in order for its estimators to work properly. So, before applying the scaler to your data, make sure that you've cleaned the DataFrame of the remaining missing values. This can be as simple as just removing all data points with missing data, or applying an [Imputer](http://scikit-learn.org/stable/modules/generated/sklearn.preprocessing.Imputer.html) to replace all missing values. You might also try a more complicated procedure where you temporarily remove missing values in order to compute the scaling parameters before re-introducing those missing values and applying imputation. Think about how much missing data you have and what possible effects each approach might have on your analysis, and justify your decision in the discussion section below.\n",
    "- For the actual scaling function, a [StandardScaler](http://scikit-learn.org/stable/modules/generated/sklearn.preprocessing.StandardScaler.html) instance is suggested, scaling each feature to mean 0 and standard deviation 1.\n",
    "- For these classes, you can make use of the `.fit_transform()` method to both fit a procedure to the data as well as apply the transformation to the data at the same time. Don't forget to keep the fit sklearn objects handy, since you'll be applying them to the customer demographics data towards the end of the project."
   ]
  },
  {
   "cell_type": "code",
   "execution_count": 32,
   "metadata": {},
   "outputs": [],
   "source": [
    "# If you've not yet cleaned the dataset of all NaN values, then investigate and\n",
    "# do that now.\n",
    "imputer = Imputer(missing_values=np.nan, strategy='mean')\n",
    "azdias_clean_imputed = pd.DataFrame(imputer.fit_transform(azdias_clean), columns = column_names)"
   ]
  },
  {
   "cell_type": "code",
   "execution_count": 33,
   "metadata": {},
   "outputs": [
    {
     "data": {
      "text/html": [
       "<div>\n",
       "<style scoped>\n",
       "    .dataframe tbody tr th:only-of-type {\n",
       "        vertical-align: middle;\n",
       "    }\n",
       "\n",
       "    .dataframe tbody tr th {\n",
       "        vertical-align: top;\n",
       "    }\n",
       "\n",
       "    .dataframe thead th {\n",
       "        text-align: right;\n",
       "    }\n",
       "</style>\n",
       "<table border=\"1\" class=\"dataframe\">\n",
       "  <thead>\n",
       "    <tr style=\"text-align: right;\">\n",
       "      <th></th>\n",
       "      <th>ALTERSKATEGORIE_GROB</th>\n",
       "      <th>FINANZ_MINIMALIST</th>\n",
       "      <th>FINANZ_SPARER</th>\n",
       "      <th>FINANZ_VORSORGER</th>\n",
       "      <th>FINANZ_ANLEGER</th>\n",
       "      <th>FINANZ_UNAUFFAELLIGER</th>\n",
       "      <th>FINANZ_HAUSBAUER</th>\n",
       "      <th>HEALTH_TYP</th>\n",
       "      <th>RETOURTYP_BK_S</th>\n",
       "      <th>SEMIO_SOZ</th>\n",
       "      <th>...</th>\n",
       "      <th>CAMEO_DEUG_2015_5</th>\n",
       "      <th>CAMEO_DEUG_2015_6</th>\n",
       "      <th>CAMEO_DEUG_2015_7</th>\n",
       "      <th>CAMEO_DEUG_2015_8</th>\n",
       "      <th>CAMEO_DEUG_2015_9</th>\n",
       "      <th>PLZ8_BAUMAX_1.0</th>\n",
       "      <th>PLZ8_BAUMAX_2.0</th>\n",
       "      <th>PLZ8_BAUMAX_3.0</th>\n",
       "      <th>PLZ8_BAUMAX_4.0</th>\n",
       "      <th>PLZ8_BAUMAX_5.0</th>\n",
       "    </tr>\n",
       "  </thead>\n",
       "  <tbody>\n",
       "    <tr>\n",
       "      <th>0</th>\n",
       "      <td>1.0</td>\n",
       "      <td>1.0</td>\n",
       "      <td>5.0</td>\n",
       "      <td>2.0</td>\n",
       "      <td>5.0</td>\n",
       "      <td>4.0</td>\n",
       "      <td>5.0</td>\n",
       "      <td>3.0</td>\n",
       "      <td>1.0</td>\n",
       "      <td>5.0</td>\n",
       "      <td>...</td>\n",
       "      <td>0.0</td>\n",
       "      <td>0.0</td>\n",
       "      <td>0.0</td>\n",
       "      <td>1.0</td>\n",
       "      <td>0.0</td>\n",
       "      <td>1.0</td>\n",
       "      <td>0.0</td>\n",
       "      <td>0.0</td>\n",
       "      <td>0.0</td>\n",
       "      <td>0.0</td>\n",
       "    </tr>\n",
       "    <tr>\n",
       "      <th>1</th>\n",
       "      <td>3.0</td>\n",
       "      <td>1.0</td>\n",
       "      <td>4.0</td>\n",
       "      <td>1.0</td>\n",
       "      <td>2.0</td>\n",
       "      <td>3.0</td>\n",
       "      <td>5.0</td>\n",
       "      <td>3.0</td>\n",
       "      <td>3.0</td>\n",
       "      <td>4.0</td>\n",
       "      <td>...</td>\n",
       "      <td>0.0</td>\n",
       "      <td>0.0</td>\n",
       "      <td>0.0</td>\n",
       "      <td>0.0</td>\n",
       "      <td>0.0</td>\n",
       "      <td>1.0</td>\n",
       "      <td>0.0</td>\n",
       "      <td>0.0</td>\n",
       "      <td>0.0</td>\n",
       "      <td>0.0</td>\n",
       "    </tr>\n",
       "    <tr>\n",
       "      <th>2</th>\n",
       "      <td>3.0</td>\n",
       "      <td>4.0</td>\n",
       "      <td>3.0</td>\n",
       "      <td>4.0</td>\n",
       "      <td>1.0</td>\n",
       "      <td>3.0</td>\n",
       "      <td>2.0</td>\n",
       "      <td>3.0</td>\n",
       "      <td>5.0</td>\n",
       "      <td>6.0</td>\n",
       "      <td>...</td>\n",
       "      <td>0.0</td>\n",
       "      <td>1.0</td>\n",
       "      <td>0.0</td>\n",
       "      <td>0.0</td>\n",
       "      <td>0.0</td>\n",
       "      <td>0.0</td>\n",
       "      <td>1.0</td>\n",
       "      <td>0.0</td>\n",
       "      <td>0.0</td>\n",
       "      <td>0.0</td>\n",
       "    </tr>\n",
       "    <tr>\n",
       "      <th>3</th>\n",
       "      <td>1.0</td>\n",
       "      <td>3.0</td>\n",
       "      <td>1.0</td>\n",
       "      <td>5.0</td>\n",
       "      <td>2.0</td>\n",
       "      <td>2.0</td>\n",
       "      <td>5.0</td>\n",
       "      <td>3.0</td>\n",
       "      <td>3.0</td>\n",
       "      <td>2.0</td>\n",
       "      <td>...</td>\n",
       "      <td>0.0</td>\n",
       "      <td>0.0</td>\n",
       "      <td>0.0</td>\n",
       "      <td>1.0</td>\n",
       "      <td>0.0</td>\n",
       "      <td>1.0</td>\n",
       "      <td>0.0</td>\n",
       "      <td>0.0</td>\n",
       "      <td>0.0</td>\n",
       "      <td>0.0</td>\n",
       "    </tr>\n",
       "    <tr>\n",
       "      <th>4</th>\n",
       "      <td>2.0</td>\n",
       "      <td>1.0</td>\n",
       "      <td>5.0</td>\n",
       "      <td>1.0</td>\n",
       "      <td>5.0</td>\n",
       "      <td>4.0</td>\n",
       "      <td>3.0</td>\n",
       "      <td>2.0</td>\n",
       "      <td>4.0</td>\n",
       "      <td>2.0</td>\n",
       "      <td>...</td>\n",
       "      <td>0.0</td>\n",
       "      <td>0.0</td>\n",
       "      <td>0.0</td>\n",
       "      <td>0.0</td>\n",
       "      <td>0.0</td>\n",
       "      <td>1.0</td>\n",
       "      <td>0.0</td>\n",
       "      <td>0.0</td>\n",
       "      <td>0.0</td>\n",
       "      <td>0.0</td>\n",
       "    </tr>\n",
       "  </tbody>\n",
       "</table>\n",
       "<p>5 rows × 133 columns</p>\n",
       "</div>"
      ],
      "text/plain": [
       "   ALTERSKATEGORIE_GROB  FINANZ_MINIMALIST  FINANZ_SPARER  FINANZ_VORSORGER  \\\n",
       "0                   1.0                1.0            5.0               2.0   \n",
       "1                   3.0                1.0            4.0               1.0   \n",
       "2                   3.0                4.0            3.0               4.0   \n",
       "3                   1.0                3.0            1.0               5.0   \n",
       "4                   2.0                1.0            5.0               1.0   \n",
       "\n",
       "   FINANZ_ANLEGER  FINANZ_UNAUFFAELLIGER  FINANZ_HAUSBAUER  HEALTH_TYP  \\\n",
       "0             5.0                    4.0               5.0         3.0   \n",
       "1             2.0                    3.0               5.0         3.0   \n",
       "2             1.0                    3.0               2.0         3.0   \n",
       "3             2.0                    2.0               5.0         3.0   \n",
       "4             5.0                    4.0               3.0         2.0   \n",
       "\n",
       "   RETOURTYP_BK_S  SEMIO_SOZ       ...         CAMEO_DEUG_2015_5  \\\n",
       "0             1.0        5.0       ...                       0.0   \n",
       "1             3.0        4.0       ...                       0.0   \n",
       "2             5.0        6.0       ...                       0.0   \n",
       "3             3.0        2.0       ...                       0.0   \n",
       "4             4.0        2.0       ...                       0.0   \n",
       "\n",
       "   CAMEO_DEUG_2015_6  CAMEO_DEUG_2015_7  CAMEO_DEUG_2015_8  CAMEO_DEUG_2015_9  \\\n",
       "0                0.0                0.0                1.0                0.0   \n",
       "1                0.0                0.0                0.0                0.0   \n",
       "2                1.0                0.0                0.0                0.0   \n",
       "3                0.0                0.0                1.0                0.0   \n",
       "4                0.0                0.0                0.0                0.0   \n",
       "\n",
       "   PLZ8_BAUMAX_1.0  PLZ8_BAUMAX_2.0  PLZ8_BAUMAX_3.0  PLZ8_BAUMAX_4.0  \\\n",
       "0              1.0              0.0              0.0              0.0   \n",
       "1              1.0              0.0              0.0              0.0   \n",
       "2              0.0              1.0              0.0              0.0   \n",
       "3              1.0              0.0              0.0              0.0   \n",
       "4              1.0              0.0              0.0              0.0   \n",
       "\n",
       "   PLZ8_BAUMAX_5.0  \n",
       "0              0.0  \n",
       "1              0.0  \n",
       "2              0.0  \n",
       "3              0.0  \n",
       "4              0.0  \n",
       "\n",
       "[5 rows x 133 columns]"
      ]
     },
     "execution_count": 33,
     "metadata": {},
     "output_type": "execute_result"
    }
   ],
   "source": [
    "azdias_clean_imputed.head()"
   ]
  },
  {
   "cell_type": "code",
   "execution_count": 34,
   "metadata": {},
   "outputs": [],
   "source": [
    "# Apply feature scaling to the general population demographics data.\n",
    "scaling = StandardScaler()\n",
    "scaled_azdias_clean_imputed = pd.DataFrame(scaling.fit_transform(azdias_clean_imputed), columns = column_names)"
   ]
  },
  {
   "cell_type": "code",
   "execution_count": 35,
   "metadata": {},
   "outputs": [
    {
     "data": {
      "text/html": [
       "<div>\n",
       "<style scoped>\n",
       "    .dataframe tbody tr th:only-of-type {\n",
       "        vertical-align: middle;\n",
       "    }\n",
       "\n",
       "    .dataframe tbody tr th {\n",
       "        vertical-align: top;\n",
       "    }\n",
       "\n",
       "    .dataframe thead th {\n",
       "        text-align: right;\n",
       "    }\n",
       "</style>\n",
       "<table border=\"1\" class=\"dataframe\">\n",
       "  <thead>\n",
       "    <tr style=\"text-align: right;\">\n",
       "      <th></th>\n",
       "      <th>ALTERSKATEGORIE_GROB</th>\n",
       "      <th>FINANZ_MINIMALIST</th>\n",
       "      <th>FINANZ_SPARER</th>\n",
       "      <th>FINANZ_VORSORGER</th>\n",
       "      <th>FINANZ_ANLEGER</th>\n",
       "      <th>FINANZ_UNAUFFAELLIGER</th>\n",
       "      <th>FINANZ_HAUSBAUER</th>\n",
       "      <th>HEALTH_TYP</th>\n",
       "      <th>RETOURTYP_BK_S</th>\n",
       "      <th>SEMIO_SOZ</th>\n",
       "      <th>...</th>\n",
       "      <th>CAMEO_DEUG_2015_5</th>\n",
       "      <th>CAMEO_DEUG_2015_6</th>\n",
       "      <th>CAMEO_DEUG_2015_7</th>\n",
       "      <th>CAMEO_DEUG_2015_8</th>\n",
       "      <th>CAMEO_DEUG_2015_9</th>\n",
       "      <th>PLZ8_BAUMAX_1.0</th>\n",
       "      <th>PLZ8_BAUMAX_2.0</th>\n",
       "      <th>PLZ8_BAUMAX_3.0</th>\n",
       "      <th>PLZ8_BAUMAX_4.0</th>\n",
       "      <th>PLZ8_BAUMAX_5.0</th>\n",
       "    </tr>\n",
       "  </thead>\n",
       "  <tbody>\n",
       "    <tr>\n",
       "      <th>0</th>\n",
       "      <td>-1.742284</td>\n",
       "      <td>-1.518333</td>\n",
       "      <td>1.584388</td>\n",
       "      <td>-1.052653</td>\n",
       "      <td>1.521225</td>\n",
       "      <td>1.046959</td>\n",
       "      <td>1.332026</td>\n",
       "      <td>1.044315</td>\n",
       "      <td>-1.660398</td>\n",
       "      <td>0.395804</td>\n",
       "      <td>...</td>\n",
       "      <td>-0.267525</td>\n",
       "      <td>-0.397754</td>\n",
       "      <td>-0.331366</td>\n",
       "      <td>2.160798</td>\n",
       "      <td>-0.399724</td>\n",
       "      <td>0.752676</td>\n",
       "      <td>-0.318787</td>\n",
       "      <td>-0.268322</td>\n",
       "      <td>-0.283908</td>\n",
       "      <td>-0.382513</td>\n",
       "    </tr>\n",
       "    <tr>\n",
       "      <th>1</th>\n",
       "      <td>0.193020</td>\n",
       "      <td>-1.518333</td>\n",
       "      <td>0.905963</td>\n",
       "      <td>-1.773152</td>\n",
       "      <td>-0.538858</td>\n",
       "      <td>0.320062</td>\n",
       "      <td>1.332026</td>\n",
       "      <td>1.044315</td>\n",
       "      <td>-0.286015</td>\n",
       "      <td>-0.115732</td>\n",
       "      <td>...</td>\n",
       "      <td>-0.267525</td>\n",
       "      <td>-0.397754</td>\n",
       "      <td>-0.331366</td>\n",
       "      <td>-0.462792</td>\n",
       "      <td>-0.399724</td>\n",
       "      <td>0.752676</td>\n",
       "      <td>-0.318787</td>\n",
       "      <td>-0.268322</td>\n",
       "      <td>-0.283908</td>\n",
       "      <td>-0.382513</td>\n",
       "    </tr>\n",
       "    <tr>\n",
       "      <th>2</th>\n",
       "      <td>0.193020</td>\n",
       "      <td>0.681366</td>\n",
       "      <td>0.227538</td>\n",
       "      <td>0.388344</td>\n",
       "      <td>-1.225553</td>\n",
       "      <td>0.320062</td>\n",
       "      <td>-0.844853</td>\n",
       "      <td>1.044315</td>\n",
       "      <td>1.088368</td>\n",
       "      <td>0.907339</td>\n",
       "      <td>...</td>\n",
       "      <td>-0.267525</td>\n",
       "      <td>2.514119</td>\n",
       "      <td>-0.331366</td>\n",
       "      <td>-0.462792</td>\n",
       "      <td>-0.399724</td>\n",
       "      <td>-1.328592</td>\n",
       "      <td>3.136896</td>\n",
       "      <td>-0.268322</td>\n",
       "      <td>-0.283908</td>\n",
       "      <td>-0.382513</td>\n",
       "    </tr>\n",
       "    <tr>\n",
       "      <th>3</th>\n",
       "      <td>-1.742284</td>\n",
       "      <td>-0.051867</td>\n",
       "      <td>-1.129311</td>\n",
       "      <td>1.108842</td>\n",
       "      <td>-0.538858</td>\n",
       "      <td>-0.406835</td>\n",
       "      <td>1.332026</td>\n",
       "      <td>1.044315</td>\n",
       "      <td>-0.286015</td>\n",
       "      <td>-1.138803</td>\n",
       "      <td>...</td>\n",
       "      <td>-0.267525</td>\n",
       "      <td>-0.397754</td>\n",
       "      <td>-0.331366</td>\n",
       "      <td>2.160798</td>\n",
       "      <td>-0.399724</td>\n",
       "      <td>0.752676</td>\n",
       "      <td>-0.318787</td>\n",
       "      <td>-0.268322</td>\n",
       "      <td>-0.283908</td>\n",
       "      <td>-0.382513</td>\n",
       "    </tr>\n",
       "    <tr>\n",
       "      <th>4</th>\n",
       "      <td>-0.774632</td>\n",
       "      <td>-1.518333</td>\n",
       "      <td>1.584388</td>\n",
       "      <td>-1.773152</td>\n",
       "      <td>1.521225</td>\n",
       "      <td>1.046959</td>\n",
       "      <td>-0.119227</td>\n",
       "      <td>-0.279180</td>\n",
       "      <td>0.401177</td>\n",
       "      <td>-1.138803</td>\n",
       "      <td>...</td>\n",
       "      <td>-0.267525</td>\n",
       "      <td>-0.397754</td>\n",
       "      <td>-0.331366</td>\n",
       "      <td>-0.462792</td>\n",
       "      <td>-0.399724</td>\n",
       "      <td>0.752676</td>\n",
       "      <td>-0.318787</td>\n",
       "      <td>-0.268322</td>\n",
       "      <td>-0.283908</td>\n",
       "      <td>-0.382513</td>\n",
       "    </tr>\n",
       "  </tbody>\n",
       "</table>\n",
       "<p>5 rows × 133 columns</p>\n",
       "</div>"
      ],
      "text/plain": [
       "   ALTERSKATEGORIE_GROB  FINANZ_MINIMALIST  FINANZ_SPARER  FINANZ_VORSORGER  \\\n",
       "0             -1.742284          -1.518333       1.584388         -1.052653   \n",
       "1              0.193020          -1.518333       0.905963         -1.773152   \n",
       "2              0.193020           0.681366       0.227538          0.388344   \n",
       "3             -1.742284          -0.051867      -1.129311          1.108842   \n",
       "4             -0.774632          -1.518333       1.584388         -1.773152   \n",
       "\n",
       "   FINANZ_ANLEGER  FINANZ_UNAUFFAELLIGER  FINANZ_HAUSBAUER  HEALTH_TYP  \\\n",
       "0        1.521225               1.046959          1.332026    1.044315   \n",
       "1       -0.538858               0.320062          1.332026    1.044315   \n",
       "2       -1.225553               0.320062         -0.844853    1.044315   \n",
       "3       -0.538858              -0.406835          1.332026    1.044315   \n",
       "4        1.521225               1.046959         -0.119227   -0.279180   \n",
       "\n",
       "   RETOURTYP_BK_S  SEMIO_SOZ       ...         CAMEO_DEUG_2015_5  \\\n",
       "0       -1.660398   0.395804       ...                 -0.267525   \n",
       "1       -0.286015  -0.115732       ...                 -0.267525   \n",
       "2        1.088368   0.907339       ...                 -0.267525   \n",
       "3       -0.286015  -1.138803       ...                 -0.267525   \n",
       "4        0.401177  -1.138803       ...                 -0.267525   \n",
       "\n",
       "   CAMEO_DEUG_2015_6  CAMEO_DEUG_2015_7  CAMEO_DEUG_2015_8  CAMEO_DEUG_2015_9  \\\n",
       "0          -0.397754          -0.331366           2.160798          -0.399724   \n",
       "1          -0.397754          -0.331366          -0.462792          -0.399724   \n",
       "2           2.514119          -0.331366          -0.462792          -0.399724   \n",
       "3          -0.397754          -0.331366           2.160798          -0.399724   \n",
       "4          -0.397754          -0.331366          -0.462792          -0.399724   \n",
       "\n",
       "   PLZ8_BAUMAX_1.0  PLZ8_BAUMAX_2.0  PLZ8_BAUMAX_3.0  PLZ8_BAUMAX_4.0  \\\n",
       "0         0.752676        -0.318787        -0.268322        -0.283908   \n",
       "1         0.752676        -0.318787        -0.268322        -0.283908   \n",
       "2        -1.328592         3.136896        -0.268322        -0.283908   \n",
       "3         0.752676        -0.318787        -0.268322        -0.283908   \n",
       "4         0.752676        -0.318787        -0.268322        -0.283908   \n",
       "\n",
       "   PLZ8_BAUMAX_5.0  \n",
       "0        -0.382513  \n",
       "1        -0.382513  \n",
       "2        -0.382513  \n",
       "3        -0.382513  \n",
       "4        -0.382513  \n",
       "\n",
       "[5 rows x 133 columns]"
      ]
     },
     "execution_count": 35,
     "metadata": {},
     "output_type": "execute_result"
    }
   ],
   "source": [
    "scaled_azdias_clean_imputed.head()"
   ]
  },
  {
   "cell_type": "markdown",
   "metadata": {},
   "source": [
    "### Discussion 2.1: Apply Feature Scaling\n",
    "\n",
    "In the dataset above as we had already converted the missing values as NaN. We changed those values from NaN to columns mean Value. This was done using Imputer method of sklearn library. We the Fit_transformed the data to create a dataframe with all rows with some value and no missing value.\n",
    "\n",
    "For feature scaling we used StandardScaling method to scale the dataset. This will help in creating machine readable dataset."
   ]
  },
  {
   "cell_type": "markdown",
   "metadata": {},
   "source": [
    "### Step 2.2: Perform Dimensionality Reduction\n",
    "\n",
    "On your scaled data, you are now ready to apply dimensionality reduction techniques.\n",
    "\n",
    "- Use sklearn's [PCA](http://scikit-learn.org/stable/modules/generated/sklearn.decomposition.PCA.html) class to apply principal component analysis on the data, thus finding the vectors of maximal variance in the data. To start, you should not set any parameters (so all components are computed) or set a number of components that is at least half the number of features (so there's enough features to see the general trend in variability).\n",
    "- Check out the ratio of variance explained by each principal component as well as the cumulative variance explained. Try plotting the cumulative or sequential values using matplotlib's [`plot()`](https://matplotlib.org/api/_as_gen/matplotlib.pyplot.plot.html) function. Based on what you find, select a value for the number of transformed features you'll retain for the clustering part of the project.\n",
    "- Once you've made a choice for the number of components to keep, make sure you re-fit a PCA instance to perform the decided-on transformation."
   ]
  },
  {
   "cell_type": "code",
   "execution_count": 36,
   "metadata": {},
   "outputs": [
    {
     "data": {
      "text/plain": [
       "PCA(copy=True, iterated_power='auto', n_components=None, random_state=None,\n",
       "  svd_solver='auto', tol=0.0, whiten=False)"
      ]
     },
     "execution_count": 36,
     "metadata": {},
     "output_type": "execute_result"
    }
   ],
   "source": [
    "# Apply PCA to the data.\n",
    "pca = PCA()\n",
    "pca.fit(scaled_azdias_clean_imputed)"
   ]
  },
  {
   "cell_type": "code",
   "execution_count": 37,
   "metadata": {},
   "outputs": [
    {
     "data": {
      "image/png": "[encoded data removed]",
      "text/plain": [
       "<matplotlib.figure.Figure at 0x7ffb53fc1da0>"
      ]
     },
     "metadata": {
      "needs_background": "light"
     },
     "output_type": "display_data"
    }
   ],
   "source": [
    "# Investigate the variance accounted for by each principal component.\n",
    "plt.bar(range(len(pca.explained_variance_ratio_)), pca.explained_variance_ratio_)\n",
    "plt.xlabel('Principal Component')\n",
    "plt.ylabel('Explained Variance ratio')\n",
    "plt.show()"
   ]
  },
  {
   "cell_type": "code",
   "execution_count": 38,
   "metadata": {},
   "outputs": [
    {
     "data": {
      "text/plain": [
       "array([[  4.34847171e+00,  -3.23396880e+00,  -3.49888548e+00, ...,\n",
       "          4.44405442e-01,  -3.77047635e-03,   3.88818429e-01],\n",
       "       [ -1.03251829e+00,  -7.26047715e-01,  -3.67359584e+00, ...,\n",
       "          1.22420233e+00,  -2.42709529e-01,  -2.42666941e-01],\n",
       "       [  5.49726296e-01,   2.99614866e-02,   3.25922903e+00, ...,\n",
       "          1.16445843e-01,  -9.08468545e-01,   9.63845659e-02],\n",
       "       ..., \n",
       "       [  4.33250910e+00,  -2.90999165e+00,  -3.77664439e+00, ...,\n",
       "          3.59084113e-01,  -6.45128271e-01,  -1.58179813e+00],\n",
       "       [  6.70054181e+00,  -4.01175298e+00,   2.71490238e+00, ...,\n",
       "          5.91915387e-01,  -1.00839233e+00,   6.05300596e-01],\n",
       "       [ -2.83578563e-03,   1.94039993e+00,   2.50625664e+00, ...,\n",
       "         -6.96821451e-01,   8.38851495e-01,  -7.33645067e-02]])"
      ]
     },
     "execution_count": 38,
     "metadata": {},
     "output_type": "execute_result"
    }
   ],
   "source": [
    "# Re-apply PCA to the data while selecting for number of components to retain.\n",
    "pca = PCA(n_components = 50)\n",
    "scaled_azdias_clean_imputed_pca = pca.fit_transform(scaled_azdias_clean_imputed)\n",
    "scaled_azdias_clean_imputed_pca"
   ]
  },
  {
   "cell_type": "markdown",
   "metadata": {},
   "source": [
    "### Discussion 2.2: Perform Dimensionality Reduction\n",
    "\n",
    "I chose 50 principle components as large part of the variance can be explained by it and also reduces the number of components by more than 50%"
   ]
  },
  {
   "cell_type": "markdown",
   "metadata": {},
   "source": [
    "### Step 2.3: Interpret Principal Components\n",
    "\n",
    "Now that we have our transformed principal components, it's a nice idea to check out the weight of each variable on the first few components to see if they can be interpreted in some fashion.\n",
    "\n",
    "As a reminder, each principal component is a unit vector that points in the direction of highest variance (after accounting for the variance captured by earlier principal components). The further a weight is from zero, the more the principal component is in the direction of the corresponding feature. If two features have large weights of the same sign (both positive or both negative), then increases in one tend expect to be associated with increases in the other. To contrast, features with different signs can be expected to show a negative correlation: increases in one variable should result in a decrease in the other.\n",
    "\n",
    "- To investigate the features, you should map each weight to their corresponding feature name, then sort the features according to weight. The most interesting features for each principal component, then, will be those at the beginning and end of the sorted list. Use the data dictionary document to help you understand these most prominent features, their relationships, and what a positive or negative value on the principal component might indicate.\n",
    "- You should investigate and interpret feature associations from the first three principal components in this substep. To help facilitate this, you should write a function that you can call at any time to print the sorted list of feature weights, for the *i*-th principal component. This might come in handy in the next step of the project, when you interpret the tendencies of the discovered clusters."
   ]
  },
  {
   "cell_type": "code",
   "execution_count": 39,
   "metadata": {},
   "outputs": [],
   "source": [
    "# Map weights for the first principal component to corresponding feature names\n",
    "# and then print the linked values, sorted by weight.\n",
    "# HINT: Try defining a function here or in a new cell that you can reuse in the\n",
    "# other cells.\n",
    "def pca_weights(pca, i):\n",
    "    df = pd.DataFrame(pca.components_[i])\n",
    "    df.index=scaled_azdias_clean_imputed.columns\n",
    "    df.columns=['PCA_Sorting']\n",
    "    df=df.sort_index(by=['PCA_Sorting'], ascending=False)\n",
    "    #weights = df.iloc[i].sort_values(ascending=False)\n",
    "    return df\n"
   ]
  },
  {
   "cell_type": "code",
   "execution_count": 40,
   "metadata": {
    "scrolled": false
   },
   "outputs": [
    {
     "name": "stdout",
     "output_type": "stream",
     "text": [
      "                                PCA_Sorting\n",
      "LP_STATUS_GROB_1.0                 0.192464\n",
      "PLZ8_ANTG3                         0.190534\n",
      "PLZ8_ANTG4                         0.185160\n",
      "CAMEO_INTL_2015_wealth             0.183224\n",
      "HH_EINKOMMEN_SCORE                 0.181493\n",
      "ORTSGR_KLS9                        0.163027\n",
      "EWDICHTE                           0.159775\n",
      "FINANZ_HAUSBAUER                   0.141720\n",
      "KBA05_ANTG4                        0.130383\n",
      "PLZ8_ANTG2                         0.128657\n",
      "ARBEIT                             0.121077\n",
      "PLZ8_BAUMAX_5.0                    0.118673\n",
      "KBA05_ANTG3                        0.117300\n",
      "ANZ_HAUSHALTE_AKTIV                0.117119\n",
      "FINANZ_SPARER                      0.114020\n",
      "CAMEO_DEUG_2015_9                  0.112160\n",
      "RELAT_AB                           0.110629\n",
      "GREEN_AVANTGARDE_0                 0.107726\n",
      "PRAEGENDE_JUGENDJAHRE_movement     0.107357\n",
      "FINANZTYP_1                        0.106510\n",
      "CAMEO_DEUG_2015_8                  0.092281\n",
      "PLZ8_BAUMAX_4.0                    0.085282\n",
      "SEMIO_PFLICHT                      0.083051\n",
      "LP_FAMILIE_GROB_1.0                0.080957\n",
      "PRAEGENDE_JUGENDJAHRE_decade       0.078956\n",
      "ZABEOTYP_5                         0.077646\n",
      "SEMIO_REL                          0.077351\n",
      "WOHNLAGE_4.0                       0.071815\n",
      "SEMIO_RAT                          0.071148\n",
      "SEMIO_TRADV                        0.068978\n",
      "...                                     ...\n",
      "SEMIO_ERL                         -0.057681\n",
      "NATIONALITAET_KZ_1.0              -0.061325\n",
      "LP_FAMILIE_GROB_5.0               -0.061635\n",
      "CAMEO_DEUG_2015_3                 -0.064385\n",
      "SEMIO_LUST                        -0.065230\n",
      "KBA13_ANZAHL_PKW                  -0.068271\n",
      "CAMEO_DEUG_2015_4                 -0.072744\n",
      "ANZ_PERSONEN                      -0.080691\n",
      "FINANZTYP_2                       -0.080852\n",
      "CAMEO_DEUG_2015_2                 -0.087409\n",
      "FINANZ_VORSORGER                  -0.087921\n",
      "GEBAEUDETYP_1.0                   -0.089543\n",
      "ALTERSKATEGORIE_GROB              -0.090965\n",
      "ZABEOTYP_1                        -0.095947\n",
      "GEBAEUDETYP_RASTER                -0.099369\n",
      "BALLRAUM                          -0.100618\n",
      "LP_STATUS_GROB_4.0                -0.104899\n",
      "GREEN_AVANTGARDE_1                -0.107726\n",
      "CAMEO_INTL_2015_life              -0.109743\n",
      "WOHNLAGE_7.0                      -0.111745\n",
      "LP_STATUS_GROB_5.0                -0.115706\n",
      "INNENSTADT                        -0.133838\n",
      "KONSUMNAEHE                       -0.138973\n",
      "PLZ8_GBZ                          -0.144553\n",
      "KBA05_GBZ                         -0.185192\n",
      "PLZ8_BAUMAX_1.0                   -0.186583\n",
      "FINANZ_MINIMALIST                 -0.186955\n",
      "PLZ8_ANTG1                        -0.192483\n",
      "KBA05_ANTG1                       -0.194711\n",
      "MOBI_REGIO                        -0.207885\n",
      "\n",
      "[133 rows x 1 columns]\n"
     ]
    }
   ],
   "source": [
    "pca_weight_0 = pca_weights(pca, 0)\n",
    "print (pca_weight_0)"
   ]
  },
  {
   "cell_type": "code",
   "execution_count": 41,
   "metadata": {},
   "outputs": [
    {
     "name": "stdout",
     "output_type": "stream",
     "text": [
      "                              PCA_Sorting\n",
      "ALTERSKATEGORIE_GROB             0.238129\n",
      "FINANZ_VORSORGER                 0.215710\n",
      "SEMIO_ERL                        0.206588\n",
      "ZABEOTYP_3                       0.205681\n",
      "SEMIO_LUST                       0.166647\n",
      "RETOURTYP_BK_S                   0.153315\n",
      "W_KEIT_KIND_HH                   0.114062\n",
      "CJT_GESAMTTYP_2.0                0.108229\n",
      "SEMIO_KRIT                       0.100999\n",
      "FINANZ_HAUSBAUER                 0.094757\n",
      "FINANZTYP_2                      0.089584\n",
      "SEMIO_KAEM                       0.086891\n",
      "FINANZTYP_5                      0.085058\n",
      "SHOPPER_TYP_3.0                  0.081867\n",
      "FINANZ_MINIMALIST                0.076741\n",
      "ANREDE_KZ_2                      0.071150\n",
      "PLZ8_ANTG3                       0.069717\n",
      "NATIONALITAET_KZ_1.0             0.069254\n",
      "CJT_GESAMTTYP_1.0                0.068653\n",
      "FINANZTYP_6                      0.068292\n",
      "PLZ8_ANTG4                       0.066201\n",
      "ORTSGR_KLS9                      0.064623\n",
      "EWDICHTE                         0.064328\n",
      "CAMEO_INTL_2015_wealth           0.056361\n",
      "WOHNDAUER_2008                   0.055442\n",
      "LP_FAMILIE_GROB_1.0              0.053995\n",
      "ARBEIT                           0.052164\n",
      "KBA05_ANTG4                      0.051604\n",
      "SEMIO_DOM                        0.049950\n",
      "PLZ8_ANTG2                       0.046927\n",
      "...                                   ...\n",
      "PLZ8_GBZ                        -0.055475\n",
      "CJT_GESAMTTYP_4.0               -0.058467\n",
      "ANZ_PERSONEN                    -0.058862\n",
      "LP_FAMILIE_GROB_4.0             -0.059277\n",
      "KBA05_ANTG1                     -0.059464\n",
      "SHOPPER_TYP_0.0                 -0.063272\n",
      "KBA05_GBZ                       -0.066089\n",
      "MOBI_REGIO                      -0.066268\n",
      "PLZ8_BAUMAX_1.0                 -0.067686\n",
      "PLZ8_ANTG1                      -0.069099\n",
      "ZABEOTYP_1                      -0.069776\n",
      "ANREDE_KZ_1                     -0.071150\n",
      "FINANZTYP_3                     -0.074973\n",
      "SEMIO_SOZ                       -0.087577\n",
      "ZABEOTYP_5                      -0.091734\n",
      "FINANZTYP_4                     -0.093966\n",
      "ZABEOTYP_4                      -0.101729\n",
      "FINANZTYP_1                     -0.127437\n",
      "SEMIO_MAT                       -0.139116\n",
      "ONLINE_AFFINITAET               -0.155480\n",
      "SEMIO_FAM                       -0.157865\n",
      "SEMIO_RAT                       -0.160754\n",
      "FINANZ_ANLEGER                  -0.191112\n",
      "SEMIO_KULT                      -0.192749\n",
      "SEMIO_TRADV                     -0.212678\n",
      "FINANZ_UNAUFFAELLIGER           -0.214255\n",
      "SEMIO_PFLICHT                   -0.214664\n",
      "FINANZ_SPARER                   -0.224658\n",
      "PRAEGENDE_JUGENDJAHRE_decade    -0.233886\n",
      "SEMIO_REL                       -0.236470\n",
      "\n",
      "[133 rows x 1 columns]\n"
     ]
    }
   ],
   "source": [
    "# Map weights for the second principal component to corresponding feature names\n",
    "# and then print the linked values, sorted by weight.\n",
    "pca_weight_1 = pca_weights(pca, 1)\n",
    "print (pca_weight_1)"
   ]
  },
  {
   "cell_type": "code",
   "execution_count": 42,
   "metadata": {
    "scrolled": false
   },
   "outputs": [
    {
     "name": "stdout",
     "output_type": "stream",
     "text": [
      "                                PCA_Sorting\n",
      "ANREDE_KZ_1                        0.330242\n",
      "SEMIO_VERT                         0.307172\n",
      "SEMIO_SOZ                          0.235245\n",
      "SEMIO_FAM                          0.229938\n",
      "SEMIO_KULT                         0.214966\n",
      "FINANZ_MINIMALIST                  0.136354\n",
      "FINANZTYP_5                        0.136348\n",
      "SHOPPER_TYP_0.0                    0.113254\n",
      "ZABEOTYP_1                         0.099556\n",
      "RETOURTYP_BK_S                     0.097209\n",
      "SEMIO_REL                          0.083399\n",
      "W_KEIT_KIND_HH                     0.077741\n",
      "FINANZ_VORSORGER                   0.074632\n",
      "GREEN_AVANTGARDE_1                 0.064224\n",
      "ORTSGR_KLS9                        0.057541\n",
      "EWDICHTE                           0.057368\n",
      "ALTERSKATEGORIE_GROB               0.057362\n",
      "SEMIO_MAT                          0.057034\n",
      "SEMIO_LUST                         0.053699\n",
      "PLZ8_ANTG4                         0.047881\n",
      "PLZ8_ANTG3                         0.047633\n",
      "ZABEOTYP_6                         0.047078\n",
      "LP_STATUS_GROB_5.0                 0.044714\n",
      "PLZ8_BAUMAX_5.0                    0.039957\n",
      "SHOPPER_TYP_1.0                    0.036132\n",
      "PLZ8_ANTG2                         0.034104\n",
      "RELAT_AB                           0.033077\n",
      "ARBEIT                             0.033003\n",
      "WOHNDAUER_2008                     0.026925\n",
      "LP_FAMILIE_GROB_2.0                0.026741\n",
      "...                                     ...\n",
      "GEBAEUDETYP_RASTER                -0.035920\n",
      "NATIONALITAET_KZ_3.0              -0.036522\n",
      "WOHNLAGE_7.0                      -0.039338\n",
      "ZABEOTYP_5                        -0.039485\n",
      "SHOPPER_TYP_3.0                   -0.040187\n",
      "ONLINE_AFFINITAET                 -0.040443\n",
      "BALLRAUM                          -0.043030\n",
      "KONSUMNAEHE                       -0.044191\n",
      "PLZ8_ANTG1                        -0.046301\n",
      "PLZ8_BAUMAX_1.0                   -0.048494\n",
      "FINANZ_HAUSBAUER                  -0.048556\n",
      "LP_FAMILIE_GROB_3.0               -0.049754\n",
      "INNENSTADT                        -0.050148\n",
      "SEMIO_PFLICHT                     -0.054880\n",
      "SEMIO_TRADV                       -0.060141\n",
      "GREEN_AVANTGARDE_0                -0.064224\n",
      "PRAEGENDE_JUGENDJAHRE_movement    -0.064658\n",
      "FINANZ_UNAUFFAELLIGER             -0.069593\n",
      "ZABEOTYP_4                        -0.070653\n",
      "FINANZ_SPARER                     -0.078749\n",
      "PRAEGENDE_JUGENDJAHRE_decade      -0.080983\n",
      "SHOPPER_TYP_2.0                   -0.096066\n",
      "FINANZTYP_1                       -0.110187\n",
      "FINANZ_ANLEGER                    -0.164100\n",
      "SEMIO_ERL                         -0.165664\n",
      "SEMIO_RAT                         -0.177767\n",
      "SEMIO_KRIT                        -0.240433\n",
      "SEMIO_DOM                         -0.270034\n",
      "SEMIO_KAEM                        -0.299339\n",
      "ANREDE_KZ_2                       -0.330242\n",
      "\n",
      "[133 rows x 1 columns]\n"
     ]
    }
   ],
   "source": [
    "# Map weights for the third principal component to corresponding feature names\n",
    "# and then print the linked values, sorted by weight.\n",
    "\n",
    "pca_weight_2 = pca_weights(pca, 2)\n",
    "print (pca_weight_2)"
   ]
  },
  {
   "cell_type": "markdown",
   "metadata": {},
   "source": [
    "### Discussion 2.3: Interpret Principal Components\n",
    "\n",
    "Below are a few observations about Princpal components:\n",
    "1. PLZ8_ANTG3 and PLZ8_ANTG4 have a positive correlation. The share of 10+ family homes and the share of 6-10 family homes for macro-cells tend to increase together.\n",
    "2. MOBI_REGIO and KBA05_ANTG1 have a negative correlation. It means that when the share of 0-2 family homes in a micro-cell increases, it tends to have higher movements"
   ]
  },
  {
   "cell_type": "markdown",
   "metadata": {},
   "source": [
    "## Step 3: Clustering\n",
    "\n",
    "### Step 3.1: Apply Clustering to General Population\n",
    "\n",
    "You've assessed and cleaned the demographics data, then scaled and transformed them. Now, it's time to see how the data clusters in the principal components space. In this substep, you will apply k-means clustering to the dataset and use the average within-cluster distances from each point to their assigned cluster's centroid to decide on a number of clusters to keep.\n",
    "\n",
    "- Use sklearn's [KMeans](http://scikit-learn.org/stable/modules/generated/sklearn.cluster.KMeans.html#sklearn.cluster.KMeans) class to perform k-means clustering on the PCA-transformed data.\n",
    "- Then, compute the average difference from each point to its assigned cluster's center. **Hint**: The KMeans object's `.score()` method might be useful here, but note that in sklearn, scores tend to be defined so that larger is better. Try applying it to a small, toy dataset, or use an internet search to help your understanding.\n",
    "- Perform the above two steps for a number of different cluster counts. You can then see how the average distance decreases with an increasing number of clusters. However, each additional cluster provides a smaller net benefit. Use this fact to select a final number of clusters in which to group the data. **Warning**: because of the large size of the dataset, it can take a long time for the algorithm to resolve. The more clusters to fit, the longer the algorithm will take. You should test for cluster counts through at least 10 clusters to get the full picture, but you shouldn't need to test for a number of clusters above about 30.\n",
    "- Once you've selected a final number of clusters to use, re-fit a KMeans instance to perform the clustering operation. Make sure that you also obtain the cluster assignments for the general demographics data, since you'll be using them in the final Step 3.3."
   ]
  },
  {
   "cell_type": "code",
   "execution_count": 43,
   "metadata": {},
   "outputs": [],
   "source": [
    "# Over a number of different cluster counts...\n",
    "def KMean_analysis(df, no_of_cluster):\n",
    "    # run k-means clustering on the data and...\n",
    "    kmean = KMeans(n_clusters = no_of_cluster)\n",
    "    kmean_fit = kmean.fit(df)\n",
    "    # compute the average within-cluster distances.\n",
    "    return np.abs(kmean_fit.score(df))\n",
    "    "
   ]
  },
  {
   "cell_type": "code",
   "execution_count": 44,
   "metadata": {
    "scrolled": true
   },
   "outputs": [
    {
     "name": "stdout",
     "output_type": "stream",
     "text": [
      "[70165548.839575499, 62418209.869580187, 58775518.570097186, 56454911.487385489, 54586612.108817495, 53133402.422997631, 51928038.677202873, 50933966.553858235, 49758913.431772985, 49421181.400434554]\n"
     ]
    }
   ],
   "source": [
    "# Investigate the change in within-cluster distance across number of clusters.\n",
    "# HINT: Use matplotlib's plot function to visualize this relationship.\n",
    "score = []\n",
    "clusters = list(range(1,11))\n",
    "for cluster in clusters:\n",
    "    score.append(KMean_analysis(scaled_azdias_clean_imputed_pca,cluster)) \n",
    "print (score)"
   ]
  },
  {
   "cell_type": "code",
   "execution_count": 45,
   "metadata": {},
   "outputs": [
    {
     "data": {
      "image/png": "[encoded data removed]",
      "text/plain": [
       "<matplotlib.figure.Figure at 0x7ffb84067860>"
      ]
     },
     "metadata": {
      "needs_background": "light"
     },
     "output_type": "display_data"
    }
   ],
   "source": [
    "plt.plot(clusters ,score ,marker='o')\n",
    "plt.xlabel('Number of Clusters')\n",
    "plt.ylabel('Distance between the clusters')\n",
    "plt.show()"
   ]
  },
  {
   "cell_type": "code",
   "execution_count": 46,
   "metadata": {},
   "outputs": [
    {
     "data": {
      "text/plain": [
       "array([0, 6, 5, ..., 0, 2, 5], dtype=int32)"
      ]
     },
     "execution_count": 46,
     "metadata": {},
     "output_type": "execute_result"
    }
   ],
   "source": [
    "# Re-fit the k-means model with the selected number of clusters and obtain\n",
    "# cluster predictions for the general population demographics data.\n",
    "kmean = KMeans(n_clusters = 8)\n",
    "kmean_fit = kmean.fit(scaled_azdias_clean_imputed_pca)\n",
    "prediction = kmean.predict(scaled_azdias_clean_imputed_pca)\n",
    "prediction"
   ]
  },
  {
   "cell_type": "markdown",
   "metadata": {},
   "source": [
    "### Discussion 3.1: Apply Clustering to General Population\n",
    "\n",
    "From the graph given above we can see that beyond 8 number of clusters the distance is not decreasing considerablly. Therefore I took 8 as a number of clusters to create the model to be testing on Customers. "
   ]
  },
  {
   "cell_type": "markdown",
   "metadata": {},
   "source": [
    "### Step 3.2: Apply All Steps to the Customer Data\n",
    "\n",
    "Now that you have clusters and cluster centers for the general population, it's time to see how the customer data maps on to those clusters. Take care to not confuse this for re-fitting all of the models to the customer data. Instead, you're going to use the fits from the general population to clean, transform, and cluster the customer data. In the last step of the project, you will interpret how the general population fits apply to the customer data.\n",
    "\n",
    "- Don't forget when loading in the customers data, that it is semicolon (`;`) delimited.\n",
    "- Apply the same feature wrangling, selection, and engineering steps to the customer demographics using the `clean_data()` function you created earlier. (You can assume that the customer demographics data has similar meaning behind missing data patterns as the general demographics data.)\n",
    "- Use the sklearn objects from the general demographics data, and apply their transformations to the customers data. That is, you should not be using a `.fit()` or `.fit_transform()` method to re-fit the old objects, nor should you be creating new sklearn objects! Carry the data through the feature scaling, PCA, and clustering steps, obtaining cluster assignments for all of the data in the customer demographics data."
   ]
  },
  {
   "cell_type": "code",
   "execution_count": 47,
   "metadata": {},
   "outputs": [],
   "source": [
    "# Load in the customer demographics data.\n",
    "customers = pd.read_csv('Udacity_CUSTOMERS_Subset.csv' , delimiter = ';')"
   ]
  },
  {
   "cell_type": "code",
   "execution_count": 48,
   "metadata": {},
   "outputs": [
    {
     "data": {
      "text/html": [
       "<div>\n",
       "<style scoped>\n",
       "    .dataframe tbody tr th:only-of-type {\n",
       "        vertical-align: middle;\n",
       "    }\n",
       "\n",
       "    .dataframe tbody tr th {\n",
       "        vertical-align: top;\n",
       "    }\n",
       "\n",
       "    .dataframe thead th {\n",
       "        text-align: right;\n",
       "    }\n",
       "</style>\n",
       "<table border=\"1\" class=\"dataframe\">\n",
       "  <thead>\n",
       "    <tr style=\"text-align: right;\">\n",
       "      <th></th>\n",
       "      <th>AGER_TYP</th>\n",
       "      <th>ALTERSKATEGORIE_GROB</th>\n",
       "      <th>ANREDE_KZ</th>\n",
       "      <th>CJT_GESAMTTYP</th>\n",
       "      <th>FINANZ_MINIMALIST</th>\n",
       "      <th>FINANZ_SPARER</th>\n",
       "      <th>FINANZ_VORSORGER</th>\n",
       "      <th>FINANZ_ANLEGER</th>\n",
       "      <th>FINANZ_UNAUFFAELLIGER</th>\n",
       "      <th>FINANZ_HAUSBAUER</th>\n",
       "      <th>...</th>\n",
       "      <th>PLZ8_ANTG1</th>\n",
       "      <th>PLZ8_ANTG2</th>\n",
       "      <th>PLZ8_ANTG3</th>\n",
       "      <th>PLZ8_ANTG4</th>\n",
       "      <th>PLZ8_BAUMAX</th>\n",
       "      <th>PLZ8_HHZ</th>\n",
       "      <th>PLZ8_GBZ</th>\n",
       "      <th>ARBEIT</th>\n",
       "      <th>ORTSGR_KLS9</th>\n",
       "      <th>RELAT_AB</th>\n",
       "    </tr>\n",
       "  </thead>\n",
       "  <tbody>\n",
       "    <tr>\n",
       "      <th>0</th>\n",
       "      <td>2</td>\n",
       "      <td>4</td>\n",
       "      <td>1</td>\n",
       "      <td>5.0</td>\n",
       "      <td>5</td>\n",
       "      <td>1</td>\n",
       "      <td>5</td>\n",
       "      <td>1</td>\n",
       "      <td>2</td>\n",
       "      <td>2</td>\n",
       "      <td>...</td>\n",
       "      <td>3.0</td>\n",
       "      <td>3.0</td>\n",
       "      <td>1.0</td>\n",
       "      <td>0.0</td>\n",
       "      <td>1.0</td>\n",
       "      <td>5.0</td>\n",
       "      <td>5.0</td>\n",
       "      <td>1.0</td>\n",
       "      <td>2.0</td>\n",
       "      <td>1.0</td>\n",
       "    </tr>\n",
       "    <tr>\n",
       "      <th>1</th>\n",
       "      <td>-1</td>\n",
       "      <td>4</td>\n",
       "      <td>1</td>\n",
       "      <td>NaN</td>\n",
       "      <td>5</td>\n",
       "      <td>1</td>\n",
       "      <td>5</td>\n",
       "      <td>1</td>\n",
       "      <td>3</td>\n",
       "      <td>2</td>\n",
       "      <td>...</td>\n",
       "      <td>NaN</td>\n",
       "      <td>NaN</td>\n",
       "      <td>NaN</td>\n",
       "      <td>NaN</td>\n",
       "      <td>NaN</td>\n",
       "      <td>NaN</td>\n",
       "      <td>NaN</td>\n",
       "      <td>NaN</td>\n",
       "      <td>NaN</td>\n",
       "      <td>NaN</td>\n",
       "    </tr>\n",
       "    <tr>\n",
       "      <th>2</th>\n",
       "      <td>-1</td>\n",
       "      <td>4</td>\n",
       "      <td>2</td>\n",
       "      <td>2.0</td>\n",
       "      <td>5</td>\n",
       "      <td>1</td>\n",
       "      <td>5</td>\n",
       "      <td>1</td>\n",
       "      <td>4</td>\n",
       "      <td>4</td>\n",
       "      <td>...</td>\n",
       "      <td>2.0</td>\n",
       "      <td>3.0</td>\n",
       "      <td>3.0</td>\n",
       "      <td>1.0</td>\n",
       "      <td>3.0</td>\n",
       "      <td>3.0</td>\n",
       "      <td>2.0</td>\n",
       "      <td>3.0</td>\n",
       "      <td>5.0</td>\n",
       "      <td>3.0</td>\n",
       "    </tr>\n",
       "    <tr>\n",
       "      <th>3</th>\n",
       "      <td>1</td>\n",
       "      <td>4</td>\n",
       "      <td>1</td>\n",
       "      <td>2.0</td>\n",
       "      <td>5</td>\n",
       "      <td>1</td>\n",
       "      <td>5</td>\n",
       "      <td>2</td>\n",
       "      <td>1</td>\n",
       "      <td>2</td>\n",
       "      <td>...</td>\n",
       "      <td>3.0</td>\n",
       "      <td>2.0</td>\n",
       "      <td>1.0</td>\n",
       "      <td>0.0</td>\n",
       "      <td>1.0</td>\n",
       "      <td>3.0</td>\n",
       "      <td>4.0</td>\n",
       "      <td>1.0</td>\n",
       "      <td>3.0</td>\n",
       "      <td>1.0</td>\n",
       "    </tr>\n",
       "    <tr>\n",
       "      <th>4</th>\n",
       "      <td>-1</td>\n",
       "      <td>3</td>\n",
       "      <td>1</td>\n",
       "      <td>6.0</td>\n",
       "      <td>3</td>\n",
       "      <td>1</td>\n",
       "      <td>4</td>\n",
       "      <td>4</td>\n",
       "      <td>5</td>\n",
       "      <td>2</td>\n",
       "      <td>...</td>\n",
       "      <td>2.0</td>\n",
       "      <td>4.0</td>\n",
       "      <td>2.0</td>\n",
       "      <td>1.0</td>\n",
       "      <td>2.0</td>\n",
       "      <td>3.0</td>\n",
       "      <td>3.0</td>\n",
       "      <td>3.0</td>\n",
       "      <td>5.0</td>\n",
       "      <td>1.0</td>\n",
       "    </tr>\n",
       "  </tbody>\n",
       "</table>\n",
       "<p>5 rows × 85 columns</p>\n",
       "</div>"
      ],
      "text/plain": [
       "   AGER_TYP  ALTERSKATEGORIE_GROB  ANREDE_KZ  CJT_GESAMTTYP  \\\n",
       "0         2                     4          1            5.0   \n",
       "1        -1                     4          1            NaN   \n",
       "2        -1                     4          2            2.0   \n",
       "3         1                     4          1            2.0   \n",
       "4        -1                     3          1            6.0   \n",
       "\n",
       "   FINANZ_MINIMALIST  FINANZ_SPARER  FINANZ_VORSORGER  FINANZ_ANLEGER  \\\n",
       "0                  5              1                 5               1   \n",
       "1                  5              1                 5               1   \n",
       "2                  5              1                 5               1   \n",
       "3                  5              1                 5               2   \n",
       "4                  3              1                 4               4   \n",
       "\n",
       "   FINANZ_UNAUFFAELLIGER  FINANZ_HAUSBAUER    ...     PLZ8_ANTG1  PLZ8_ANTG2  \\\n",
       "0                      2                 2    ...            3.0         3.0   \n",
       "1                      3                 2    ...            NaN         NaN   \n",
       "2                      4                 4    ...            2.0         3.0   \n",
       "3                      1                 2    ...            3.0         2.0   \n",
       "4                      5                 2    ...            2.0         4.0   \n",
       "\n",
       "   PLZ8_ANTG3  PLZ8_ANTG4  PLZ8_BAUMAX  PLZ8_HHZ  PLZ8_GBZ  ARBEIT  \\\n",
       "0         1.0         0.0          1.0       5.0       5.0     1.0   \n",
       "1         NaN         NaN          NaN       NaN       NaN     NaN   \n",
       "2         3.0         1.0          3.0       3.0       2.0     3.0   \n",
       "3         1.0         0.0          1.0       3.0       4.0     1.0   \n",
       "4         2.0         1.0          2.0       3.0       3.0     3.0   \n",
       "\n",
       "   ORTSGR_KLS9  RELAT_AB  \n",
       "0          2.0       1.0  \n",
       "1          NaN       NaN  \n",
       "2          5.0       3.0  \n",
       "3          3.0       1.0  \n",
       "4          5.0       1.0  \n",
       "\n",
       "[5 rows x 85 columns]"
      ]
     },
     "execution_count": 48,
     "metadata": {},
     "output_type": "execute_result"
    }
   ],
   "source": [
    "customers.head()"
   ]
  },
  {
   "cell_type": "code",
   "execution_count": 49,
   "metadata": {},
   "outputs": [],
   "source": [
    "# Apply preprocessing, feature transformation, and clustering from the general\n",
    "# demographics onto the customer data, obtaining cluster predictions for the\n",
    "# customer demographics data.\n",
    "customers = clean_data(customers)"
   ]
  },
  {
   "cell_type": "code",
   "execution_count": 50,
   "metadata": {},
   "outputs": [
    {
     "data": {
      "text/plain": [
       "array([[-4.3092307 , -0.43856645, -1.34749404, ..., -0.22380472,\n",
       "        -0.68996279,  1.19888707],\n",
       "       [-2.5029245 , -3.41483289, -3.34845264, ..., -0.45096487,\n",
       "         0.16223633, -0.81805619],\n",
       "       [-3.24577881, -1.08349587,  2.86338751, ...,  0.02740414,\n",
       "         1.79640468,  1.18274017],\n",
       "       ..., \n",
       "       [ 7.06219662,  0.44227104, -0.84277173, ..., -1.12146926,\n",
       "         1.78440643, -2.82776328],\n",
       "       [ 0.83836705, -3.02506451,  2.22038388, ...,  2.18394773,\n",
       "        -0.09207494, -1.98453417],\n",
       "       [-1.79117966, -0.73692468, -2.9135214 , ..., -0.16778459,\n",
       "        -0.01530601, -0.9015852 ]])"
      ]
     },
     "execution_count": 50,
     "metadata": {},
     "output_type": "execute_result"
    }
   ],
   "source": [
    "imputer = Imputer(missing_values=np.nan, strategy='mean')\n",
    "customers_imputed = pd.DataFrame(imputer.fit_transform(customers), columns = customers.columns)\n",
    "scaling = StandardScaler()\n",
    "scaled_customers_imputed = pd.DataFrame(scaling.fit_transform(customers_imputed), columns = customers.columns)  \n",
    "pca = PCA(n_components = 50)\n",
    "scaled_customers_imputed_pca = pca.fit_transform(scaled_customers_imputed)\n",
    "scaled_customers_imputed_pca"
   ]
  },
  {
   "cell_type": "code",
   "execution_count": 51,
   "metadata": {},
   "outputs": [],
   "source": [
    "kmean = KMeans(n_clusters = 8)\n",
    "model_fit = kmean.fit(scaled_customers_imputed_pca)\n",
    "model_prediction = kmean.predict(scaled_customers_imputed_pca)"
   ]
  },
  {
   "cell_type": "markdown",
   "metadata": {},
   "source": [
    "### Step 3.3: Compare Customer Data to Demographics Data\n",
    "\n",
    "At this point, you have clustered data based on demographics of the general population of Germany, and seen how the customer data for a mail-order sales company maps onto those demographic clusters. In this final substep, you will compare the two cluster distributions to see where the strongest customer base for the company is.\n",
    "\n",
    "Consider the proportion of persons in each cluster for the general population, and the proportions for the customers. If we think the company's customer base to be universal, then the cluster assignment proportions should be fairly similar between the two. If there are only particular segments of the population that are interested in the company's products, then we should see a mismatch from one to the other. If there is a higher proportion of persons in a cluster for the customer data compared to the general population (e.g. 5% of persons are assigned to a cluster for the general population, but 15% of the customer data is closest to that cluster's centroid) then that suggests the people in that cluster to be a target audience for the company. On the other hand, the proportion of the data in a cluster being larger in the general population than the customer data (e.g. only 2% of customers closest to a population centroid that captures 6% of the data) suggests that group of persons to be outside of the target demographics.\n",
    "\n",
    "Take a look at the following points in this step:\n",
    "\n",
    "- Compute the proportion of data points in each cluster for the general population and the customer data. Visualizations will be useful here: both for the individual dataset proportions, but also to visualize the ratios in cluster representation between groups. Seaborn's [`countplot()`](https://seaborn.pydata.org/generated/seaborn.countplot.html) or [`barplot()`](https://seaborn.pydata.org/generated/seaborn.barplot.html) function could be handy.\n",
    "  - Recall the analysis you performed in step 1.1.3 of the project, where you separated out certain data points from the dataset if they had more than a specified threshold of missing values. If you found that this group was qualitatively different from the main bulk of the data, you should treat this as an additional data cluster in this analysis. Make sure that you account for the number of data points in this subset, for both the general population and customer datasets, when making your computations!\n",
    "- Which cluster or clusters are overrepresented in the customer dataset compared to the general population? Select at least one such cluster and infer what kind of people might be represented by that cluster. Use the principal component interpretations from step 2.3 or look at additional components to help you make this inference. Alternatively, you can use the `.inverse_transform()` method of the PCA and StandardScaler objects to transform centroids back to the original data space and interpret the retrieved values directly.\n",
    "- Perform a similar investigation for the underrepresented clusters. Which cluster or clusters are underrepresented in the customer dataset compared to the general population, and what kinds of people are typified by these clusters?"
   ]
  },
  {
   "cell_type": "code",
   "execution_count": 68,
   "metadata": {},
   "outputs": [
    {
     "data": {
      "text/plain": [
       "Text(0.5,0,'Number of Clusters')"
      ]
     },
     "execution_count": 68,
     "metadata": {},
     "output_type": "execute_result"
    },
    {
     "data": {
      "image/png": "[encoded data removed]",
      "text/plain": [
       "<matplotlib.figure.Figure at 0x7ffb61806b00>"
      ]
     },
     "metadata": {},
     "output_type": "display_data"
    }
   ],
   "source": [
    "# Compare the proportion of data in each cluster for the customer data to the\n",
    "# proportion of data in each cluster for the general population.\n",
    "sns.set(style=\"darkgrid\")\n",
    "figure, axs = plt.subplots(nrows=1, ncols=2, figsize = (10,5))\n",
    "figure.subplots_adjust(hspace = 1, wspace=.3)\n",
    "sns.countplot(model_prediction, ax = axs[0])\n",
    "axs[0].set_title('Customer Prediction')\n",
    "sns.countplot(prediction , ax = axs[1])\n",
    "axs[1].set_title('General Prediction')\n",
    "axs[0].set_ylabel('Data points')\n",
    "axs[1].set_ylabel('Data points')\n",
    "axs[0].set_xlabel('Number of Clusters')\n",
    "axs[1].set_xlabel('Number of Clusters')"
   ]
  },
  {
   "cell_type": "code",
   "execution_count": 88,
   "metadata": {
    "scrolled": false
   },
   "outputs": [
    {
     "data": {
      "text/plain": [
       "MIN_GEBAEUDEJAHR                  1992.356537\n",
       "KBA13_ANZAHL_PKW                   695.591686\n",
       "WOHNDAUER_2008                       8.947833\n",
       "SEMIO_VERT                           6.619676\n",
       "SEMIO_LUST                           6.557050\n",
       "ORTSGR_KLS9                          5.225832\n",
       "FINANZ_MINIMALIST                    4.975271\n",
       "SEMIO_SOZ                            4.939677\n",
       "FINANZ_VORSORGER                     4.928970\n",
       "INNENSTADT                           4.774066\n",
       "SEMIO_KULT                           4.593717\n",
       "W_KEIT_KIND_HH                       4.392595\n",
       "SEMIO_FAM                            4.340877\n",
       "MOBI_REGIO                           4.291615\n",
       "BALLRAUM                             4.199595\n",
       "RETOURTYP_BK_S                       4.153145\n",
       "SEMIO_ERL                            4.097122\n",
       "KBA05_GBZ                            4.068410\n",
       "GEBAEUDETYP_RASTER                   4.048738\n",
       "ALTERSKATEGORIE_GROB                 3.975898\n",
       "EWDICHTE                             3.963107\n",
       "SEMIO_MAT                            3.879027\n",
       "PLZ8_GBZ                             3.875018\n",
       "CAMEO_INTL_2015_life                 3.804143\n",
       "PLZ8_HHZ                             3.657233\n",
       "KONSUMNAEHE                          3.386070\n",
       "SEMIO_REL                            3.300421\n",
       "ONLINE_AFFINITAET                    3.300068\n",
       "REGIOTYP                             3.275656\n",
       "KBA05_ANTG1                          3.165223\n",
       "                                     ...     \n",
       "LP_STATUS_GROB_2.0                   0.034656\n",
       "CJT_GESAMTTYP_6.0                    0.031629\n",
       "CAMEO_DEUG_2015_8                    0.030639\n",
       "ZABEOTYP_2                           0.030596\n",
       "OST_WEST_KZ_O                        0.030166\n",
       "ZABEOTYP_4                           0.020289\n",
       "LP_FAMILIE_GROB_4.0                  0.020006\n",
       "LP_STATUS_GROB_4.0                   0.019099\n",
       "WOHNLAGE_5.0                         0.015472\n",
       "SHOPPER_TYP_1.0                      0.013536\n",
       "PRAEGENDE_JUGENDJAHRE_movement       0.013455\n",
       "GREEN_AVANTGARDE_0                   0.013455\n",
       "CAMEO_DEUG_2015_9                    0.010461\n",
       "PLZ8_BAUMAX_3.0                      0.009626\n",
       "PLZ8_BAUMAX_4.0                      0.009239\n",
       "PLZ8_BAUMAX_5.0                      0.008144\n",
       "KBA05_ANTG4                          0.008044\n",
       "NATIONALITAET_KZ_2.0                 0.005401\n",
       "LP_FAMILIE_GROB_3.0                  0.003893\n",
       "ZABEOTYP_6                           0.002003\n",
       "WOHNLAGE_8.0                         0.001313\n",
       "ZABEOTYP_5                           0.001210\n",
       "NATIONALITAET_KZ_3.0                 0.001171\n",
       "FINANZTYP_1                          0.000676\n",
       "GEBAEUDETYP_2.0                      0.000232\n",
       "FINANZTYP_4                         -0.000119\n",
       "SOHO_KZ_1.0                         -0.000247\n",
       "FINANZTYP_3                         -0.000271\n",
       "ANREDE_KZ_2                         -0.001404\n",
       "LP_STATUS_GROB_1.0                  -0.002630\n",
       "Length: 129, dtype: float64"
      ]
     },
     "execution_count": 88,
     "metadata": {},
     "output_type": "execute_result"
    }
   ],
   "source": [
    "# What kinds of people are part of a cluster that is overrepresented in the\n",
    "# customer data compared to the general population?\n",
    "centroid_3 = scaling.inverse_transform(pca.inverse_transform(kmean.cluster_centers_[3]))\n",
    "overrepresented_centroid = pd.Series(data = centroid_3, index = scaled_customers_imputed.columns)\n",
    "overrepresented_centroid.sort_values(ascending = False)"
   ]
  },
  {
   "cell_type": "code",
   "execution_count": 87,
   "metadata": {
    "scrolled": false
   },
   "outputs": [
    {
     "data": {
      "text/plain": [
       "MIN_GEBAEUDEJAHR        1992.370955\n",
       "KBA13_ANZAHL_PKW         689.559199\n",
       "WOHNDAUER_2008             8.724707\n",
       "SEMIO_LUST                 5.684577\n",
       "SEMIO_VERT                 5.172158\n",
       "ORTSGR_KLS9                5.140195\n",
       "SEMIO_ERL                  4.983531\n",
       "ANZ_HAUSHALTE_AKTIV        4.888315\n",
       "INNENSTADT                 4.834521\n",
       "FINANZ_VORSORGER           4.758268\n",
       "SEMIO_SOZ                  4.478743\n",
       "FINANZ_MINIMALIST          4.358440\n",
       "BALLRAUM                   4.238492\n",
       "REGIOTYP                   4.136738\n",
       "W_KEIT_KIND_HH             4.090613\n",
       "RETOURTYP_BK_S             3.964045\n",
       "SEMIO_DOM                  3.913211\n",
       "SEMIO_KULT                 3.900950\n",
       "SEMIO_KRIT                 3.851881\n",
       "EWDICHTE                   3.836175\n",
       "GEBAEUDETYP_RASTER         3.836076\n",
       "SEMIO_FAM                  3.725665\n",
       "MOBI_REGIO                 3.711172\n",
       "PLZ8_HHZ                   3.705900\n",
       "PLZ8_GBZ                   3.633438\n",
       "ALTERSKATEGORIE_GROB       3.581074\n",
       "SEMIO_KAEM                 3.552513\n",
       "KBA05_GBZ                  3.550414\n",
       "CAMEO_INTL_2015_life       3.471988\n",
       "SEMIO_MAT                  3.264923\n",
       "                           ...     \n",
       "CAMEO_DEUG_2015_1          0.109645\n",
       "WOHNLAGE_4.0               0.107156\n",
       "LP_STATUS_GROB_1.0         0.103200\n",
       "PLZ8_BAUMAX_2.0            0.095967\n",
       "CAMEO_DEUG_2015_5          0.087355\n",
       "CAMEO_DEUG_2015_7          0.082012\n",
       "OST_WEST_KZ_O              0.079868\n",
       "PLZ8_BAUMAX_5.0            0.074916\n",
       "WOHNLAGE_1.0               0.074431\n",
       "ZABEOTYP_4                 0.073391\n",
       "ANZ_HH_TITEL               0.062872\n",
       "CAMEO_DEUG_2015_8          0.055716\n",
       "CJT_GESAMTTYP_6.0          0.051632\n",
       "LP_FAMILIE_GROB_4.0        0.046484\n",
       "PLZ8_BAUMAX_4.0            0.038248\n",
       "WOHNLAGE_5.0               0.023687\n",
       "PLZ8_BAUMAX_3.0            0.022995\n",
       "ZABEOTYP_6                 0.022497\n",
       "CAMEO_DEUG_2015_9          0.020191\n",
       "NATIONALITAET_KZ_3.0       0.019965\n",
       "NATIONALITAET_KZ_2.0       0.016522\n",
       "ANZ_TITEL                  0.013284\n",
       "FINANZTYP_1                0.010470\n",
       "FINANZTYP_4                0.007664\n",
       "LP_FAMILIE_GROB_3.0        0.007343\n",
       "SOHO_KZ_0.0                0.005657\n",
       "FINANZTYP_3                0.004694\n",
       "WOHNLAGE_8.0               0.002889\n",
       "GEBAEUDETYP_2.0            0.000988\n",
       "ZABEOTYP_5                 0.000293\n",
       "Length: 129, dtype: float64"
      ]
     },
     "execution_count": 87,
     "metadata": {},
     "output_type": "execute_result"
    }
   ],
   "source": [
    "# What kinds of people are part of a cluster that is underrepresented in the\n",
    "# customer data compared to the general population?\n",
    "centroid_6 = scaling.inverse_transform(pca.inverse_transform(kmean.cluster_centers_[6]))\n",
    "underrepresented_centroid = pd.Series(data = centroid_6, index = scaled_customers_imputed.columns)\n",
    "(underrepresented_centroid.sort_values(ascending = False))"
   ]
  },
  {
   "cell_type": "markdown",
   "metadata": {},
   "source": [
    "### Discussion 3.3: Compare Customer Data to Demographics Data\n",
    "\n",
    "From the graphs drawn above, we can conclude a few things:\n",
    "1.  Centroid 3 is overrepreseneted in customer data as compared to general data.\n",
    "    - In the household where length of stay in a house is more(WOHNDAUER_2008= 8.724)\n",
    "    \n",
    "    - In the population which moves very frequently (MOBI_REGIO  = 3.11)\n",
    "       \n",
    "    \n",
    "2. Centroid 6 is underrepresented in the customer data as compared to general data.\n",
    "    - In area whose distance to the cities is more(INNENSTADT= 4.834)\n",
    "    \n",
    "    - In areas with high population (ORTSGR_KLS9  = 5.140)\n",
    "    "
   ]
  },
  {
   "cell_type": "markdown",
   "metadata": {},
   "source": [
    "> Congratulations on making it this far in the project! Before you finish, make sure to check through the entire notebook from top to bottom to make sure that your analysis follows a logical flow and all of your findings are documented in **Discussion** cells. Once you've checked over all of your work, you should export the notebook as an HTML document to submit for evaluation. You can do this from the menu, navigating to **File -> Download as -> HTML (.html)**. You will submit both that document and this notebook for your project submission."
   ]
  },
  {
   "cell_type": "code",
   "execution_count": null,
   "metadata": {},
   "outputs": [],
   "source": []
  }
 ],
 "metadata": {
  "kernelspec": {
   "display_name": "Python 3",
   "language": "python",
   "name": "python3"
  },
  "language_info": {
   "codemirror_mode": {
    "name": "ipython",
    "version": 3
   },
   "file_extension": ".py",
   "mimetype": "text/x-python",
   "name": "python",
   "nbconvert_exporter": "python",
   "pygments_lexer": "ipython3",
   "version": "3.7.4"
  }
 },
 "nbformat": 4,
 "nbformat_minor": 2
}
